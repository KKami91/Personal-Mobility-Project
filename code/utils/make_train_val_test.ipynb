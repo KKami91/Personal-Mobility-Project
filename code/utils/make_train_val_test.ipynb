{
 "cells": [
  {
   "cell_type": "code",
   "execution_count": 104,
   "metadata": {},
   "outputs": [],
   "source": [
    "import pandas as pd\n",
    "import numpy as np\n",
    "import json\n",
    "from tqdm import tqdm\n",
    "import matplotlib.pyplot as plt\n",
    "from PIL import Image\n",
    "import matplotlib.patches as patches\n",
    "import numpy as np\n",
    "import seaborn as sns\n",
    "import os\n",
    "import shutil\n",
    "import re\n",
    "from sklearn.model_selection import train_test_split"
   ]
  },
  {
   "cell_type": "code",
   "execution_count": 130,
   "metadata": {},
   "outputs": [],
   "source": [
    "img_dir = './data/img/'\n",
    "ann_dir = './data/ann/'"
   ]
  },
  {
   "cell_type": "code",
   "execution_count": 131,
   "metadata": {},
   "outputs": [],
   "source": [
    "fileids = []\n",
    "class_num = []\n",
    "orient = []\n",
    "img_fileids = []\n",
    "\n",
    "for idx, img_fileid in enumerate(os.listdir(img_dir)):\n",
    "    \n",
    "    fileid = re.match('\\w+_\\d+', img_fileid).group(0)\n",
    "    ann_fileid = fileid+'.json'\n",
    "    \n",
    "    img_fileids.append(img_fileid)\n",
    "    fileids.append(fileid)\n",
    "    with open(ann_dir+ann_fileid, \"r\", encoding=\"utf8\") as f:\n",
    "        contents = f.read() # string 타입\n",
    "        json_data = json.loads(contents)\n",
    "        class_num.append(json_data['objects'][0]['classTitle'])\n",
    "        \n",
    "        tags = json_data['objects'][0]['tags']\n",
    "        for idx, tag in enumerate(tags):\n",
    "            if tag['name'] == 'orientation':\n",
    "                orient.append(tag['value'])\n",
    "                \n",
    "# for idx, ann_fileid in enumerate(os.listdir(ann_dir)):\n",
    "#     fileid = re.match('\\w+_\\d+', ann_fileid).group(0)\n",
    "#     fileids.append(fileid)\n",
    "#     with open(ann_dir+ann_fileid, \"r\", encoding=\"utf8\") as f:\n",
    "#         contents = f.read() # string 타입\n",
    "#         json_data = json.loads(contents)\n",
    "#         class_num.append(json_data['objects'][0]['classTitle'])\n",
    "        \n",
    "#         tags = json_data['objects'][0]['tags']\n",
    "#         for idx, tag in enumerate(tags):\n",
    "#             if tag['name'] == 'orientation':\n",
    "#                 orient.append(tag['value'])"
   ]
  },
  {
   "cell_type": "code",
   "execution_count": 132,
   "metadata": {
    "scrolled": false
   },
   "outputs": [
    {
     "data": {
      "text/html": [
       "<div>\n",
       "<style scoped>\n",
       "    .dataframe tbody tr th:only-of-type {\n",
       "        vertical-align: middle;\n",
       "    }\n",
       "\n",
       "    .dataframe tbody tr th {\n",
       "        vertical-align: top;\n",
       "    }\n",
       "\n",
       "    .dataframe thead th {\n",
       "        text-align: right;\n",
       "    }\n",
       "</style>\n",
       "<table border=\"1\" class=\"dataframe\">\n",
       "  <thead>\n",
       "    <tr style=\"text-align: right;\">\n",
       "      <th></th>\n",
       "      <th>fileid</th>\n",
       "      <th>img</th>\n",
       "      <th>class_num</th>\n",
       "      <th>orient</th>\n",
       "    </tr>\n",
       "  </thead>\n",
       "  <tbody>\n",
       "    <tr>\n",
       "      <th>0</th>\n",
       "      <td>self_0000</td>\n",
       "      <td>self_0000.JPG</td>\n",
       "      <td>1</td>\n",
       "      <td>Front</td>\n",
       "    </tr>\n",
       "    <tr>\n",
       "      <th>1</th>\n",
       "      <td>self_0001</td>\n",
       "      <td>self_0001.JPG</td>\n",
       "      <td>1</td>\n",
       "      <td>Rear</td>\n",
       "    </tr>\n",
       "    <tr>\n",
       "      <th>2</th>\n",
       "      <td>self_0002</td>\n",
       "      <td>self_0002.JPG</td>\n",
       "      <td>1</td>\n",
       "      <td>Front</td>\n",
       "    </tr>\n",
       "    <tr>\n",
       "      <th>3</th>\n",
       "      <td>self_0003</td>\n",
       "      <td>self_0003.JPG</td>\n",
       "      <td>1</td>\n",
       "      <td>Side</td>\n",
       "    </tr>\n",
       "    <tr>\n",
       "      <th>4</th>\n",
       "      <td>self_0004</td>\n",
       "      <td>self_0004.JPG</td>\n",
       "      <td>1</td>\n",
       "      <td>Side</td>\n",
       "    </tr>\n",
       "    <tr>\n",
       "      <th>...</th>\n",
       "      <td>...</td>\n",
       "      <td>...</td>\n",
       "      <td>...</td>\n",
       "      <td>...</td>\n",
       "    </tr>\n",
       "    <tr>\n",
       "      <th>1122</th>\n",
       "      <td>yt_2_0152</td>\n",
       "      <td>yt_2_0152.png</td>\n",
       "      <td>0</td>\n",
       "      <td>Side</td>\n",
       "    </tr>\n",
       "    <tr>\n",
       "      <th>1123</th>\n",
       "      <td>yt_2_0153</td>\n",
       "      <td>yt_2_0153.png</td>\n",
       "      <td>0</td>\n",
       "      <td>Side</td>\n",
       "    </tr>\n",
       "    <tr>\n",
       "      <th>1124</th>\n",
       "      <td>yt_2_0154</td>\n",
       "      <td>yt_2_0154.png</td>\n",
       "      <td>0</td>\n",
       "      <td>Front</td>\n",
       "    </tr>\n",
       "    <tr>\n",
       "      <th>1125</th>\n",
       "      <td>yt_2_0155</td>\n",
       "      <td>yt_2_0155.png</td>\n",
       "      <td>1</td>\n",
       "      <td>Side</td>\n",
       "    </tr>\n",
       "    <tr>\n",
       "      <th>1126</th>\n",
       "      <td>yt_2_0156</td>\n",
       "      <td>yt_2_0156.png</td>\n",
       "      <td>0</td>\n",
       "      <td>Side</td>\n",
       "    </tr>\n",
       "  </tbody>\n",
       "</table>\n",
       "<p>1127 rows × 4 columns</p>\n",
       "</div>"
      ],
      "text/plain": [
       "         fileid            img class_num orient\n",
       "0     self_0000  self_0000.JPG         1  Front\n",
       "1     self_0001  self_0001.JPG         1   Rear\n",
       "2     self_0002  self_0002.JPG         1  Front\n",
       "3     self_0003  self_0003.JPG         1   Side\n",
       "4     self_0004  self_0004.JPG         1   Side\n",
       "...         ...            ...       ...    ...\n",
       "1122  yt_2_0152  yt_2_0152.png         0   Side\n",
       "1123  yt_2_0153  yt_2_0153.png         0   Side\n",
       "1124  yt_2_0154  yt_2_0154.png         0  Front\n",
       "1125  yt_2_0155  yt_2_0155.png         1   Side\n",
       "1126  yt_2_0156  yt_2_0156.png         0   Side\n",
       "\n",
       "[1127 rows x 4 columns]"
      ]
     },
     "execution_count": 132,
     "metadata": {},
     "output_type": "execute_result"
    }
   ],
   "source": [
    "df = pd.DataFrame()\n",
    "df['fileid'] = fileids\n",
    "df['img'] = img_fileids\n",
    "df['class_num'] = class_num\n",
    "df['orient'] = orient\n",
    "df"
   ]
  },
  {
   "cell_type": "code",
   "execution_count": 133,
   "metadata": {},
   "outputs": [],
   "source": [
    "df_0 = df.loc[df['class_num']=='0']\n",
    "df_1 = df.loc[df['class_num']=='1']\n",
    "df_2 = df.loc[df['class_num']=='2']\n",
    "df_3 = df.loc[df['class_num']=='3']"
   ]
  },
  {
   "cell_type": "code",
   "execution_count": 141,
   "metadata": {},
   "outputs": [],
   "source": [
    "data_0 = df_0[['img', 'fileid']]\n",
    "target_0 = df_0['orient']\n",
    "data_0, data_0_val, target_0, target_0_val = train_test_split(data_0, target_0, test_size=0.2, shuffle=True, stratify=target_0, random_state=1)\n",
    "data_0_train, data_0_test, target_0_train, target_0_test = train_test_split(data_0, target_0, test_size=0.125, shuffle=True, stratify=target_0, random_state=1)\n",
    "\n",
    "data_1 = df_1[['img', 'fileid']]\n",
    "target_1 = df_1['orient']\n",
    "data_1, data_1_val, target_1, target_1_val = train_test_split(data_1, target_1, test_size=0.2, shuffle=True, stratify=target_1, random_state=1)\n",
    "data_1_train, data_1_test, target_1_train, target_1_test = train_test_split(data_1, target_1, test_size=0.125, shuffle=True, stratify=target_1, random_state=1)\n",
    "\n",
    "data_2 = df_2[['img', 'fileid']]\n",
    "target_2 = df_2['orient'] # 부족한 데이터 추가시 test_size 0.2->0.125 수정필요\n",
    "data_2, data_2_val, target_2, target_2_val = train_test_split(data_2, target_2, test_size=0.2, shuffle=True, stratify=target_2, random_state=1)\n",
    "data_2_train, data_2_test, target_2_train, target_2_test = train_test_split(data_2, target_2, test_size=0.2, shuffle=True, stratify=target_2, random_state=1)\n",
    "\n",
    "data_3 = df_3[['img', 'fileid']]\n",
    "target_3 = df_3['orient']\n",
    "data_3, data_3_val, target_3, target_3_val = train_test_split(data_3, target_3, test_size=0.2, shuffle=True, stratify=target_3, random_state=1)\n",
    "data_3_train, data_3_test, target_3_train, target_3_test = train_test_split(data_3, target_3, test_size=0.125, shuffle=True, stratify=target_3, random_state=1)"
   ]
  },
  {
   "cell_type": "code",
   "execution_count": 142,
   "metadata": {},
   "outputs": [],
   "source": [
    "data_train = pd.concat([data_0_train, data_1_train, data_2_train, data_3_train])\n",
    "data_val = pd.concat([data_0_val, data_1_val, data_2_val, data_3_val])\n",
    "data_test = pd.concat([data_0_test, data_1_test, data_2_test, data_3_test])"
   ]
  },
  {
   "cell_type": "code",
   "execution_count": 143,
   "metadata": {},
   "outputs": [
    {
     "data": {
      "text/html": [
       "<div>\n",
       "<style scoped>\n",
       "    .dataframe tbody tr th:only-of-type {\n",
       "        vertical-align: middle;\n",
       "    }\n",
       "\n",
       "    .dataframe tbody tr th {\n",
       "        vertical-align: top;\n",
       "    }\n",
       "\n",
       "    .dataframe thead th {\n",
       "        text-align: right;\n",
       "    }\n",
       "</style>\n",
       "<table border=\"1\" class=\"dataframe\">\n",
       "  <thead>\n",
       "    <tr style=\"text-align: right;\">\n",
       "      <th></th>\n",
       "      <th>img</th>\n",
       "      <th>fileid</th>\n",
       "    </tr>\n",
       "  </thead>\n",
       "  <tbody>\n",
       "    <tr>\n",
       "      <th>882</th>\n",
       "      <td>yt_1_0132.jpg</td>\n",
       "      <td>yt_1_0132</td>\n",
       "    </tr>\n",
       "    <tr>\n",
       "      <th>639</th>\n",
       "      <td>self_0640.jpg</td>\n",
       "      <td>self_0640</td>\n",
       "    </tr>\n",
       "    <tr>\n",
       "      <th>409</th>\n",
       "      <td>self_0410.jpg</td>\n",
       "      <td>self_0410</td>\n",
       "    </tr>\n",
       "    <tr>\n",
       "      <th>1016</th>\n",
       "      <td>yt_2_0042.png</td>\n",
       "      <td>yt_2_0042</td>\n",
       "    </tr>\n",
       "    <tr>\n",
       "      <th>878</th>\n",
       "      <td>yt_1_0128.jpg</td>\n",
       "      <td>yt_1_0128</td>\n",
       "    </tr>\n",
       "    <tr>\n",
       "      <th>...</th>\n",
       "      <td>...</td>\n",
       "      <td>...</td>\n",
       "    </tr>\n",
       "    <tr>\n",
       "      <th>102</th>\n",
       "      <td>self_0102.JPG</td>\n",
       "      <td>self_0102</td>\n",
       "    </tr>\n",
       "    <tr>\n",
       "      <th>185</th>\n",
       "      <td>self_0185.JPG</td>\n",
       "      <td>self_0185</td>\n",
       "    </tr>\n",
       "    <tr>\n",
       "      <th>558</th>\n",
       "      <td>self_0559.jpg</td>\n",
       "      <td>self_0559</td>\n",
       "    </tr>\n",
       "    <tr>\n",
       "      <th>968</th>\n",
       "      <td>yt_1_0218.jpg</td>\n",
       "      <td>yt_1_0218</td>\n",
       "    </tr>\n",
       "    <tr>\n",
       "      <th>700</th>\n",
       "      <td>web_0061.png</td>\n",
       "      <td>web_0061</td>\n",
       "    </tr>\n",
       "  </tbody>\n",
       "</table>\n",
       "<p>787 rows × 2 columns</p>\n",
       "</div>"
      ],
      "text/plain": [
       "                img     fileid\n",
       "882   yt_1_0132.jpg  yt_1_0132\n",
       "639   self_0640.jpg  self_0640\n",
       "409   self_0410.jpg  self_0410\n",
       "1016  yt_2_0042.png  yt_2_0042\n",
       "878   yt_1_0128.jpg  yt_1_0128\n",
       "...             ...        ...\n",
       "102   self_0102.JPG  self_0102\n",
       "185   self_0185.JPG  self_0185\n",
       "558   self_0559.jpg  self_0559\n",
       "968   yt_1_0218.jpg  yt_1_0218\n",
       "700    web_0061.png   web_0061\n",
       "\n",
       "[787 rows x 2 columns]"
      ]
     },
     "execution_count": 143,
     "metadata": {},
     "output_type": "execute_result"
    }
   ],
   "source": [
    "data_train"
   ]
  },
  {
   "cell_type": "code",
   "execution_count": 155,
   "metadata": {},
   "outputs": [],
   "source": [
    "for idx in data_train.index:\n",
    "    img_path = data_train['img'][idx]\n",
    "    ann_path = data_train['fileid'][idx]+'.json'\n",
    "    \n",
    "    img_origin = img_dir+img_path\n",
    "    ann_origin = ann_dir+ann_path\n",
    "    img_copy = './data/train/images/'+img_path\n",
    "    ann_copy = './data/train/labels/'+ann_path\n",
    "    shutil.copy(img_origin, img_copy)\n",
    "    shutil.copy(ann_origin, ann_copy)"
   ]
  },
  {
   "cell_type": "code",
   "execution_count": 156,
   "metadata": {},
   "outputs": [],
   "source": [
    "for idx in data_val.index:\n",
    "    img_path = data_val['img'][idx]\n",
    "    ann_path = data_val['fileid'][idx]+'.json'\n",
    "    \n",
    "    img_origin = img_dir+img_path\n",
    "    ann_origin = ann_dir+ann_path\n",
    "    img_copy = './data/val/images/'+img_path\n",
    "    ann_copy = './data/val/labels/'+ann_path\n",
    "    shutil.copy(img_origin, img_copy)\n",
    "    shutil.copy(ann_origin, ann_copy)"
   ]
  },
  {
   "cell_type": "code",
   "execution_count": 157,
   "metadata": {},
   "outputs": [],
   "source": [
    "for idx in data_test.index:\n",
    "    img_path = data_test['img'][idx]\n",
    "    ann_path = data_test['fileid'][idx]+'.json'\n",
    "    \n",
    "    img_origin = img_dir+img_path\n",
    "    ann_origin = ann_dir+ann_path\n",
    "    img_copy = './data/test/images/'+img_path\n",
    "    ann_copy = './data/test/labels/'+ann_path\n",
    "    shutil.copy(img_origin, img_copy)\n",
    "    shutil.copy(ann_origin, ann_copy)"
   ]
  },
  {
   "cell_type": "code",
   "execution_count": null,
   "metadata": {},
   "outputs": [],
   "source": []
  },
  {
   "cell_type": "code",
   "execution_count": null,
   "metadata": {},
   "outputs": [],
   "source": []
  },
  {
   "cell_type": "code",
   "execution_count": null,
   "metadata": {},
   "outputs": [],
   "source": []
  },
  {
   "cell_type": "code",
   "execution_count": null,
   "metadata": {},
   "outputs": [],
   "source": []
  },
  {
   "cell_type": "code",
   "execution_count": 43,
   "metadata": {
    "scrolled": true
   },
   "outputs": [
    {
     "data": {
      "text/html": [
       "<div>\n",
       "<style scoped>\n",
       "    .dataframe tbody tr th:only-of-type {\n",
       "        vertical-align: middle;\n",
       "    }\n",
       "\n",
       "    .dataframe tbody tr th {\n",
       "        vertical-align: top;\n",
       "    }\n",
       "\n",
       "    .dataframe thead th {\n",
       "        text-align: right;\n",
       "    }\n",
       "</style>\n",
       "<table border=\"1\" class=\"dataframe\">\n",
       "  <thead>\n",
       "    <tr style=\"text-align: right;\">\n",
       "      <th></th>\n",
       "      <th></th>\n",
       "      <th>fileid</th>\n",
       "    </tr>\n",
       "    <tr>\n",
       "      <th>class_num</th>\n",
       "      <th>orient</th>\n",
       "      <th></th>\n",
       "    </tr>\n",
       "  </thead>\n",
       "  <tbody>\n",
       "    <tr>\n",
       "      <th rowspan=\"3\" valign=\"top\">0</th>\n",
       "      <th>Front</th>\n",
       "      <td>76</td>\n",
       "    </tr>\n",
       "    <tr>\n",
       "      <th>Rear</th>\n",
       "      <td>70</td>\n",
       "    </tr>\n",
       "    <tr>\n",
       "      <th>Side</th>\n",
       "      <td>274</td>\n",
       "    </tr>\n",
       "    <tr>\n",
       "      <th rowspan=\"3\" valign=\"top\">1</th>\n",
       "      <th>Front</th>\n",
       "      <td>112</td>\n",
       "    </tr>\n",
       "    <tr>\n",
       "      <th>Rear</th>\n",
       "      <td>74</td>\n",
       "    </tr>\n",
       "    <tr>\n",
       "      <th>Side</th>\n",
       "      <td>384</td>\n",
       "    </tr>\n",
       "    <tr>\n",
       "      <th rowspan=\"3\" valign=\"top\">2</th>\n",
       "      <th>Front</th>\n",
       "      <td>4</td>\n",
       "    </tr>\n",
       "    <tr>\n",
       "      <th>Rear</th>\n",
       "      <td>2</td>\n",
       "    </tr>\n",
       "    <tr>\n",
       "      <th>Side</th>\n",
       "      <td>11</td>\n",
       "    </tr>\n",
       "    <tr>\n",
       "      <th rowspan=\"3\" valign=\"top\">3</th>\n",
       "      <th>Front</th>\n",
       "      <td>14</td>\n",
       "    </tr>\n",
       "    <tr>\n",
       "      <th>Rear</th>\n",
       "      <td>4</td>\n",
       "    </tr>\n",
       "    <tr>\n",
       "      <th>Side</th>\n",
       "      <td>102</td>\n",
       "    </tr>\n",
       "  </tbody>\n",
       "</table>\n",
       "</div>"
      ],
      "text/plain": [
       "                  fileid\n",
       "class_num orient        \n",
       "0         Front       76\n",
       "          Rear        70\n",
       "          Side       274\n",
       "1         Front      112\n",
       "          Rear        74\n",
       "          Side       384\n",
       "2         Front        4\n",
       "          Rear         2\n",
       "          Side        11\n",
       "3         Front       14\n",
       "          Rear         4\n",
       "          Side       102"
      ]
     },
     "execution_count": 43,
     "metadata": {},
     "output_type": "execute_result"
    }
   ],
   "source": [
    "df.groupby(['class_num', 'orient']).count()"
   ]
  },
  {
   "cell_type": "code",
   "execution_count": 35,
   "metadata": {
    "scrolled": true
   },
   "outputs": [
    {
     "data": {
      "text/plain": [
       "0       False\n",
       "1        True\n",
       "2       False\n",
       "3       False\n",
       "4       False\n",
       "        ...  \n",
       "1122    False\n",
       "1123    False\n",
       "1124    False\n",
       "1125    False\n",
       "1126    False\n",
       "Name: orient, Length: 1127, dtype: bool"
      ]
     },
     "execution_count": 35,
     "metadata": {},
     "output_type": "execute_result"
    }
   ],
   "source": [
    "df['orient']=='Rear'"
   ]
  },
  {
   "cell_type": "code",
   "execution_count": 38,
   "metadata": {
    "scrolled": true
   },
   "outputs": [
    {
     "data": {
      "text/html": [
       "<div>\n",
       "<style scoped>\n",
       "    .dataframe tbody tr th:only-of-type {\n",
       "        vertical-align: middle;\n",
       "    }\n",
       "\n",
       "    .dataframe tbody tr th {\n",
       "        vertical-align: top;\n",
       "    }\n",
       "\n",
       "    .dataframe thead th {\n",
       "        text-align: right;\n",
       "    }\n",
       "</style>\n",
       "<table border=\"1\" class=\"dataframe\">\n",
       "  <thead>\n",
       "    <tr style=\"text-align: right;\">\n",
       "      <th></th>\n",
       "      <th>fileid</th>\n",
       "      <th>class_num</th>\n",
       "      <th>orient</th>\n",
       "    </tr>\n",
       "  </thead>\n",
       "  <tbody>\n",
       "    <tr>\n",
       "      <th>129</th>\n",
       "      <td>self_0129</td>\n",
       "      <td>2</td>\n",
       "      <td>Rear</td>\n",
       "    </tr>\n",
       "    <tr>\n",
       "      <th>134</th>\n",
       "      <td>self_0134</td>\n",
       "      <td>2</td>\n",
       "      <td>Rear</td>\n",
       "    </tr>\n",
       "  </tbody>\n",
       "</table>\n",
       "</div>"
      ],
      "text/plain": [
       "        fileid class_num orient\n",
       "129  self_0129         2   Rear\n",
       "134  self_0134         2   Rear"
      ]
     },
     "execution_count": 38,
     "metadata": {},
     "output_type": "execute_result"
    }
   ],
   "source": [
    "df.loc[(df['orient']=='Rear') & (df['class_num']=='2')]"
   ]
  },
  {
   "cell_type": "code",
   "execution_count": 31,
   "metadata": {
    "scrolled": false
   },
   "outputs": [
    {
     "data": {
      "text/html": [
       "<div>\n",
       "<style scoped>\n",
       "    .dataframe tbody tr th:only-of-type {\n",
       "        vertical-align: middle;\n",
       "    }\n",
       "\n",
       "    .dataframe tbody tr th {\n",
       "        vertical-align: top;\n",
       "    }\n",
       "\n",
       "    .dataframe thead th {\n",
       "        text-align: right;\n",
       "    }\n",
       "</style>\n",
       "<table border=\"1\" class=\"dataframe\">\n",
       "  <thead>\n",
       "    <tr style=\"text-align: right;\">\n",
       "      <th></th>\n",
       "      <th>fileid</th>\n",
       "      <th>orient</th>\n",
       "    </tr>\n",
       "    <tr>\n",
       "      <th>class_num</th>\n",
       "      <th></th>\n",
       "      <th></th>\n",
       "    </tr>\n",
       "  </thead>\n",
       "  <tbody>\n",
       "    <tr>\n",
       "      <th>0</th>\n",
       "      <td>420</td>\n",
       "      <td>420</td>\n",
       "    </tr>\n",
       "    <tr>\n",
       "      <th>1</th>\n",
       "      <td>570</td>\n",
       "      <td>570</td>\n",
       "    </tr>\n",
       "    <tr>\n",
       "      <th>2</th>\n",
       "      <td>17</td>\n",
       "      <td>17</td>\n",
       "    </tr>\n",
       "    <tr>\n",
       "      <th>3</th>\n",
       "      <td>120</td>\n",
       "      <td>120</td>\n",
       "    </tr>\n",
       "  </tbody>\n",
       "</table>\n",
       "</div>"
      ],
      "text/plain": [
       "           fileid  orient\n",
       "class_num                \n",
       "0             420     420\n",
       "1             570     570\n",
       "2              17      17\n",
       "3             120     120"
      ]
     },
     "execution_count": 31,
     "metadata": {},
     "output_type": "execute_result"
    }
   ],
   "source": [
    "df.groupby(['class_num']).count()"
   ]
  },
  {
   "cell_type": "code",
   "execution_count": 32,
   "metadata": {},
   "outputs": [],
   "source": [
    "data = df['Title']\n",
    "target = df['class_num']\n",
    "x, x_test, y, y_test = train_test_split(data, target, test_size=0.2, shuffle=True, stratify=target, random_state=1)"
   ]
  },
  {
   "cell_type": "code",
   "execution_count": 34,
   "metadata": {},
   "outputs": [
    {
     "name": "stdout",
     "output_type": "stream",
     "text": [
      "(1127,)\n",
      "(1127,)\n",
      "(901,)\n",
      "(901,)\n"
     ]
    }
   ],
   "source": [
    "print(data.shape)\n",
    "print(target.shape)\n",
    "print(x.shape)\n",
    "print(y.shape)"
   ]
  },
  {
   "cell_type": "code",
   "execution_count": 35,
   "metadata": {},
   "outputs": [],
   "source": [
    "x_train, x_val, y_val, y_val = train_test_split(x, y, test_size=0.25, shuffle=True, stratify=y, random_state=1)"
   ]
  },
  {
   "cell_type": "code",
   "execution_count": 36,
   "metadata": {},
   "outputs": [
    {
     "data": {
      "text/plain": [
       "27      self_0027\n",
       "1060    yt_2_0087\n",
       "83      self_0083\n",
       "227     self_0228\n",
       "335     self_0336\n",
       "          ...    \n",
       "910     yt_1_0160\n",
       "632     self_0633\n",
       "788     yt_1_0038\n",
       "460     self_0461\n",
       "1095    yt_2_0124\n",
       "Name: Title, Length: 675, dtype: object"
      ]
     },
     "execution_count": 36,
     "metadata": {},
     "output_type": "execute_result"
    }
   ],
   "source": [
    "x_train"
   ]
  },
  {
   "cell_type": "code",
   "execution_count": 37,
   "metadata": {
    "scrolled": true
   },
   "outputs": [
    {
     "data": {
      "text/plain": [
       "1059    yt_2_0086\n",
       "457     self_0458\n",
       "52      self_0052\n",
       "956     yt_1_0206\n",
       "339     self_0340\n",
       "          ...    \n",
       "823     yt_1_0073\n",
       "434     self_0435\n",
       "356     self_0357\n",
       "876     yt_1_0126\n",
       "1114    yt_2_0144\n",
       "Name: Title, Length: 226, dtype: object"
      ]
     },
     "execution_count": 37,
     "metadata": {},
     "output_type": "execute_result"
    }
   ],
   "source": [
    "x_val"
   ]
  },
  {
   "cell_type": "code",
   "execution_count": 38,
   "metadata": {},
   "outputs": [
    {
     "data": {
      "text/plain": [
       "279    self_0280\n",
       "365    self_0366\n",
       "563    self_0564\n",
       "552    self_0553\n",
       "444    self_0445\n",
       "         ...    \n",
       "7      self_0007\n",
       "677    web_0034.\n",
       "947    yt_1_0197\n",
       "181    self_0181\n",
       "923    yt_1_0173\n",
       "Name: Title, Length: 226, dtype: object"
      ]
     },
     "execution_count": 38,
     "metadata": {},
     "output_type": "execute_result"
    }
   ],
   "source": [
    "x_test"
   ]
  },
  {
   "cell_type": "code",
   "execution_count": null,
   "metadata": {},
   "outputs": [],
   "source": []
  }
 ],
 "metadata": {
  "kernelspec": {
   "display_name": "Python 3",
   "language": "python",
   "name": "python3"
  },
  "language_info": {
   "codemirror_mode": {
    "name": "ipython",
    "version": 3
   },
   "file_extension": ".py",
   "mimetype": "text/x-python",
   "name": "python",
   "nbconvert_exporter": "python",
   "pygments_lexer": "ipython3",
   "version": "3.8.5"
  }
 },
 "nbformat": 4,
 "nbformat_minor": 4
}
