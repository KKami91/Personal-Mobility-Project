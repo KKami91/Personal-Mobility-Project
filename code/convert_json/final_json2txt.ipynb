{
 "cells": [
  {
   "cell_type": "code",
   "execution_count": 10,
   "id": "7082c91d-583e-4ecd-b7f8-a781b7bec148",
   "metadata": {},
   "outputs": [],
   "source": [
    "import json\n",
    "import os\n",
    "from pathlib import Path"
   ]
  },
  {
   "cell_type": "code",
   "execution_count": 11,
   "id": "c371b32b-1ab0-4fc2-985c-ac6ab43aab15",
   "metadata": {},
   "outputs": [],
   "source": [
    "#directory = ['self/','self2/','web/','youtube_1/','youtube_2/']\n",
    "directory = ['train/','val/','test/']"
   ]
  },
  {
   "cell_type": "code",
   "execution_count": 12,
   "id": "e53fde21-2026-4259-a02f-76c84f80a328",
   "metadata": {},
   "outputs": [],
   "source": [
    "# 이미지 train, val, test 있는 디렉터리를 지정해주세요.\n",
    "path = '/opt/ml/yolor_d6/na_imgs/'"
   ]
  },
  {
   "cell_type": "code",
   "execution_count": null,
   "id": "0b8c559b-420e-44fc-b18c-910f23bd0f48",
   "metadata": {},
   "outputs": [],
   "source": []
  },
  {
   "cell_type": "code",
   "execution_count": 15,
   "id": "8ebf52f3-1432-4bea-8e8a-b7024c36aad4",
   "metadata": {},
   "outputs": [],
   "source": []
  },
  {
   "cell_type": "code",
   "execution_count": null,
   "id": "ba392116-0026-4624-9f7b-237ac3be7673",
   "metadata": {},
   "outputs": [],
   "source": [
    "# labels 디렉터리를 temp라는 이름으로 바꿔주고, 새로 labels 디렉터리를 만듭니다.\n",
    "for i in range(len(directory)):\n",
    "    os.rename(path + directory[i] + 'labels', path + directory[i] + 'temp')\n",
    "    os.mkdir(path + directory[i] + 'labels')"
   ]
  },
  {
   "cell_type": "code",
   "execution_count": 13,
   "id": "b3720f46-1428-4ec1-b09f-233de2bcac90",
   "metadata": {},
   "outputs": [],
   "source": [
    "def convert_yolor(size, box):\n",
    "    dw = 1./size[0]\n",
    "    dh = 1./size[1]\n",
    "    \n",
    "    x = box[0]\n",
    "    y = box[1]\n",
    "    w = box[2]\n",
    "    h = box[3]\n",
    "    \n",
    "    x = x*dw\n",
    "    w = w*dw\n",
    "    y = y*dh\n",
    "    h = h*dh\n",
    "    return (x,y,w,h)"
   ]
  },
  {
   "cell_type": "code",
   "execution_count": 14,
   "id": "3c2aff9e-797d-4ab3-b8cd-8ba095987c5b",
   "metadata": {},
   "outputs": [],
   "source": [
    "for k in range(len(directory)):\n",
    "    img_list = os.listdir(path+directory[k]+'temp/')\n",
    "    for i in range(len(img_list)):\n",
    "        with Path(path+directory[k]+'temp/' + img_list[i]).open(encoding='utf8') as handle:\n",
    "            ann = json.load(handle)\n",
    "        idx = img_list[i].index('.')\n",
    "        with open(path + directory[k] + 'labels/' + img_list[i][:idx] + '.txt','w') as f:\n",
    "            for j in range(len(ann['objects'])):\n",
    "                size = (ann['size']['width'],ann['size']['height'])\n",
    "                box = ann['objects'][j]['points']['exterior']\n",
    "                p1 = box[0]\n",
    "                p2 = box[1]\n",
    "                center = [p1[0] + (p2[0] - p1[0])/2, p1[1] + (p2[1] - p1[1])/2]\n",
    "                w = p2[0] - p1[0]\n",
    "                h = p2[1] - p1[1]\n",
    "                temp = [center[0], center[1], w, h]\n",
    "                label = ann['objects'][j]['classTitle']\n",
    "                conv_ann = convert_yolor(size, temp)\n",
    "                s = str(label) + ' ' + str(conv_ann[0]) + ' ' + str(conv_ann[1]) + ' ' + str(conv_ann[2]) + ' ' + str(conv_ann[3]) + '\\n'\n",
    "                f.write(s)"
   ]
  },
  {
   "cell_type": "code",
   "execution_count": null,
   "id": "c3e1600c-074f-4ba1-b25a-b36bafd3546e",
   "metadata": {},
   "outputs": [],
   "source": [
    "'''\n",
    "for k in range(len(directory)):\n",
    "    img_list = os.listdir(path+directory[k]+'labels/')\n",
    "    for i in range(len(img_list)):\n",
    "        with Path(path+directory[k]+'labels/' + img_list[i]).open(encoding='utf8') as handle:\n",
    "            ann = json.load(handle)\n",
    "        idx = img_list[i].index('.')\n",
    "        with open(path + directory[k] + 'txt/' + img_list[i][:idx] + '.txt','w') as f:\n",
    "            for j in range(len(ann['objects'])):\n",
    "                size = (ann['size']['width'],ann['size']['height'])\n",
    "                box = ann['objects'][j]['points']['exterior']\n",
    "                p1 = box[0]\n",
    "                p2 = box[1]\n",
    "                center = [p1[0] + (p2[0] - p1[0])/2, p1[1] + (p2[1] - p1[1])/2]\n",
    "                w = p2[0] - p1[0]\n",
    "                h = p2[1] - p1[1]\n",
    "                temp = [center[0], center[1], w, h]\n",
    "                label = ann['objects'][j]['classTitle']\n",
    "                conv_ann = convert_yolor(size, temp)\n",
    "                s = str(label) + ' ' + str(conv_ann[0]) + ' ' + str(conv_ann[1]) + ' ' + str(conv_ann[2]) + ' ' + str(conv_ann[3]) + '\\n'\n",
    "                f.write(s)\n",
    "'''"
   ]
  },
  {
   "cell_type": "code",
   "execution_count": 64,
   "id": "d542058f-d25f-4fcf-a0d1-c4ca43f13e28",
   "metadata": {},
   "outputs": [
    {
     "ename": "NameError",
     "evalue": "name 'sub' is not defined",
     "output_type": "error",
     "traceback": [
      "\u001b[0;31m---------------------------------------------------------------------------\u001b[0m",
      "\u001b[0;31mNameError\u001b[0m                                 Traceback (most recent call last)",
      "\u001b[0;32m/tmp/ipykernel_2068/860389691.py\u001b[0m in \u001b[0;36m<module>\u001b[0;34m\u001b[0m\n\u001b[1;32m      1\u001b[0m \u001b[0ma\u001b[0m \u001b[0;34m=\u001b[0m \u001b[0;34m[\u001b[0m\u001b[0;36m3\u001b[0m\u001b[0;34m,\u001b[0m\u001b[0;36m5\u001b[0m\u001b[0;34m,\u001b[0m\u001b[0;36m8\u001b[0m\u001b[0;34m,\u001b[0m\u001b[0;36m10\u001b[0m\u001b[0;34m]\u001b[0m\u001b[0;34m\u001b[0m\u001b[0;34m\u001b[0m\u001b[0m\n\u001b[1;32m      2\u001b[0m \u001b[0mb\u001b[0m \u001b[0;34m=\u001b[0m \u001b[0;34m[\u001b[0m\u001b[0;36m3\u001b[0m\u001b[0;34m,\u001b[0m\u001b[0;36m5\u001b[0m\u001b[0;34m,\u001b[0m\u001b[0;36m8\u001b[0m\u001b[0;34m]\u001b[0m\u001b[0;34m\u001b[0m\u001b[0;34m\u001b[0m\u001b[0m\n\u001b[0;32m----> 3\u001b[0;31m \u001b[0msub\u001b[0m\u001b[0;34m(\u001b[0m\u001b[0ma\u001b[0m\u001b[0;34m,\u001b[0m\u001b[0mb\u001b[0m\u001b[0;34m)\u001b[0m\u001b[0;34m\u001b[0m\u001b[0;34m\u001b[0m\u001b[0m\n\u001b[0m",
      "\u001b[0;31mNameError\u001b[0m: name 'sub' is not defined"
     ]
    }
   ],
   "source": []
  },
  {
   "cell_type": "code",
   "execution_count": 65,
   "id": "e317aa56-f74a-4195-9329-6905ba4c2b8b",
   "metadata": {},
   "outputs": [
    {
     "data": {
      "text/plain": [
       "26"
      ]
     },
     "execution_count": 65,
     "metadata": {},
     "output_type": "execute_result"
    }
   ],
   "source": []
  },
  {
   "cell_type": "code",
   "execution_count": 78,
   "id": "7b9e5b37-9409-4ac9-9d9b-c8b74a316c88",
   "metadata": {},
   "outputs": [],
   "source": []
  },
  {
   "cell_type": "code",
   "execution_count": 43,
   "id": "64d7516d-cc4b-439c-a504-bf92b0ef393f",
   "metadata": {},
   "outputs": [],
   "source": []
  },
  {
   "cell_type": "code",
   "execution_count": 175,
   "id": "6f9f6ff4-7fe2-49d0-b626-4cae1316d102",
   "metadata": {},
   "outputs": [],
   "source": []
  },
  {
   "cell_type": "code",
   "execution_count": 176,
   "id": "b6739d4d-fcc2-4d7a-9b8b-a833c4aa62d0",
   "metadata": {},
   "outputs": [],
   "source": []
  },
  {
   "cell_type": "code",
   "execution_count": 177,
   "id": "69997070-deb3-4d4c-972b-cdc87aa464ee",
   "metadata": {},
   "outputs": [],
   "source": [
    "'''\n",
    "train = []\n",
    "val = []\n",
    "test = []\n",
    "cnt = 0\n",
    "len_list = len(r_img_list)\n",
    "temp_len = len(r_img_list)\n",
    "ratio = [7,2,1]\n",
    "len_ratio = []\n",
    "for i in range(3):\n",
    "    if i == 2:\n",
    "        len_ratio.append(len_list - sum(len_ratio))\n",
    "    else:\n",
    "        len_ratio.append(round(len_list/10 * ratio[i]))\n",
    "        \n",
    "rlist = [x for x in range(0,len(r_img_list))]\n",
    "temp_list = [x for x in range(0,len(r_img_list))]\n",
    "\n",
    "train = random.sample(temp_list,len_ratio[0])\n",
    "temp_list = [x for x in temp_list if x not in train]\n",
    "val = random.sample(temp_list,len_ratio[1])\n",
    "test = [x for x in temp_list if x not in val]\n",
    "\n",
    "\n",
    "copy_img_list = sorted(os.listdir(path+directory[c]+'images/'))\n",
    "copy_label_list = sorted(os.listdir(path+directory[c]+'txt/'))\n",
    "\n",
    "'''"
   ]
  },
  {
   "cell_type": "code",
   "execution_count": 178,
   "id": "fb3f5ef7-eeb7-4f41-bd57-edfefa34f15b",
   "metadata": {},
   "outputs": [
    {
     "data": {
      "text/plain": [
       "153"
      ]
     },
     "execution_count": 178,
     "metadata": {},
     "output_type": "execute_result"
    }
   ],
   "source": []
  },
  {
   "cell_type": "code",
   "execution_count": 179,
   "id": "fe530fac-7272-40ca-86c9-5efc080c75eb",
   "metadata": {},
   "outputs": [],
   "source": []
  },
  {
   "cell_type": "code",
   "execution_count": 180,
   "id": "0d59f3c3-2344-45df-8784-e5f73031d15b",
   "metadata": {},
   "outputs": [
    {
     "data": {
      "text/plain": [
       "107"
      ]
     },
     "execution_count": 180,
     "metadata": {},
     "output_type": "execute_result"
    }
   ],
   "source": []
  },
  {
   "cell_type": "code",
   "execution_count": 181,
   "id": "b19f684d-2afc-46a0-83ac-8a46a95b3dee",
   "metadata": {},
   "outputs": [],
   "source": [
    "'''\n",
    "for i in range(3):\n",
    "    tvt = [train,val,test]\n",
    "    for j in range(len(tvt[i])):\n",
    "        \n",
    "        if i == 0:\n",
    "            shutil.copy(path+directory[c] + 'images/' + copy_img_list[train[j]],\n",
    "                        dst_path + 'train/images/' + copy_img_list[train[j]])\n",
    "            shutil.copy(path+directory[c] + 'txt/' + copy_label_list[train[j]],\n",
    "                        dst_path + 'train/labels/' + copy_label_list[train[j]])\n",
    "            #print(copy_img_list[tvt[i][j]])\n",
    "        if i == 1:\n",
    "            shutil.copy(path+directory[c] + 'images/' + copy_img_list[val[j]],\n",
    "                        dst_path + 'val/images/' + copy_img_list[val[j]])\n",
    "            shutil.copy(path+directory[c] + 'txt/' + copy_label_list[val[j]],\n",
    "                        dst_path + 'val/labels/' + copy_label_list[val[j]])\n",
    "        if i == 2:\n",
    "            shutil.copy(path+directory[c] + 'images/' + copy_img_list[test[j]],\n",
    "                        dst_path + 'test/images/' + copy_img_list[test[j]])\n",
    "            shutil.copy(path+directory[c] + 'txt/' + copy_label_list[test[j]],\n",
    "                        dst_path + 'test/labels/' + copy_label_list[test[j]])\n",
    "'''"
   ]
  },
  {
   "cell_type": "code",
   "execution_count": 83,
   "id": "05395ad5-6b82-483f-ae6e-2fdbe6648866",
   "metadata": {},
   "outputs": [
    {
     "data": {
      "text/plain": [
       "['self_0000.JPG',\n",
       " 'self_0001.JPG',\n",
       " 'self_0002.JPG',\n",
       " 'self_0003.JPG',\n",
       " 'self_0004.JPG']"
      ]
     },
     "execution_count": 83,
     "metadata": {},
     "output_type": "execute_result"
    }
   ],
   "source": []
  },
  {
   "cell_type": "code",
   "execution_count": 84,
   "id": "f7f519fd-f35f-4530-9576-43cdd28e9a10",
   "metadata": {},
   "outputs": [
    {
     "data": {
      "text/plain": [
       "['self_0000.json',\n",
       " 'self_0001.json',\n",
       " 'self_0002.json',\n",
       " 'self_0003.json',\n",
       " 'self_0004.json']"
      ]
     },
     "execution_count": 84,
     "metadata": {},
     "output_type": "execute_result"
    }
   ],
   "source": []
  },
  {
   "cell_type": "code",
   "execution_count": 70,
   "id": "68cf61b6-d57e-4548-88ea-158719ee8957",
   "metadata": {},
   "outputs": [
    {
     "data": {
      "text/plain": [
       "[216, 62, 31]"
      ]
     },
     "execution_count": 70,
     "metadata": {},
     "output_type": "execute_result"
    }
   ],
   "source": []
  },
  {
   "cell_type": "code",
   "execution_count": 62,
   "id": "7d4dd8fc-dda6-4eac-bcee-0148de197b2d",
   "metadata": {},
   "outputs": [
    {
     "data": {
      "text/plain": [
       "216"
      ]
     },
     "execution_count": 62,
     "metadata": {},
     "output_type": "execute_result"
    }
   ],
   "source": []
  },
  {
   "cell_type": "code",
   "execution_count": 49,
   "id": "87d7ccda-cf83-41d9-a894-efee3d778b6f",
   "metadata": {},
   "outputs": [
    {
     "data": {
      "text/plain": [
       "309"
      ]
     },
     "execution_count": 49,
     "metadata": {},
     "output_type": "execute_result"
    }
   ],
   "source": []
  },
  {
   "cell_type": "code",
   "execution_count": 51,
   "id": "5756a967-f609-44cb-b1de-ff0db7fc9605",
   "metadata": {},
   "outputs": [],
   "source": []
  },
  {
   "cell_type": "code",
   "execution_count": 52,
   "id": "12164f16-a382-4373-9921-608a42b6694b",
   "metadata": {},
   "outputs": [
    {
     "data": {
      "text/plain": [
       "30"
      ]
     },
     "execution_count": 52,
     "metadata": {},
     "output_type": "execute_result"
    }
   ],
   "source": []
  },
  {
   "cell_type": "code",
   "execution_count": 58,
   "id": "6cc4efd4-3f26-4d34-87f0-37366ee3a6c4",
   "metadata": {},
   "outputs": [],
   "source": []
  },
  {
   "cell_type": "code",
   "execution_count": 59,
   "id": "f2015ee6-8094-4942-9ee4-e1bed0b560e5",
   "metadata": {},
   "outputs": [
    {
     "data": {
      "text/plain": [
       "[212,\n",
       " 299,\n",
       " 104,\n",
       " 63,\n",
       " 188,\n",
       " 27,\n",
       " 57,\n",
       " 258,\n",
       " 3,\n",
       " 101,\n",
       " 0,\n",
       " 255,\n",
       " 288,\n",
       " 165,\n",
       " 222,\n",
       " 102,\n",
       " 31,\n",
       " 39,\n",
       " 191,\n",
       " 252,\n",
       " 194,\n",
       " 173,\n",
       " 50,\n",
       " 107,\n",
       " 76,\n",
       " 16,\n",
       " 32,\n",
       " 82,\n",
       " 276,\n",
       " 112]"
      ]
     },
     "execution_count": 59,
     "metadata": {},
     "output_type": "execute_result"
    }
   ],
   "source": []
  },
  {
   "cell_type": "code",
   "execution_count": 19,
   "id": "cdbcaa76-f57e-4951-8308-db3ed3b89fa1",
   "metadata": {},
   "outputs": [],
   "source": [
    "'''\n",
    "for i in range(len(img_list)):\n",
    "    with Path(path+'labels/'+img_list[i]).open(encoding='utf8') as handle:\n",
    "        ann = json.load(handle)\n",
    "    with open(path+'test_txt/'+img_list[i][:-9]+'.txt','w') as f:\n",
    "        for j in range(len(ann['objects'])):\n",
    "            size = (ann['size']['width'], ann['size']['height'])\n",
    "            t = ann['objects'][j]['points']['exterior']\n",
    "            p1 = t[0]\n",
    "            p2 = t[1]\n",
    "            center = [p1[0] + (p2[0] - p1[0])/2, p1[1] + (p2[1] - p1[1])/2]\n",
    "            h = center[1] - p1[1]\n",
    "            w = center[0] - p1[0]\n",
    "            temp = [center[0], center[1], w, h]\n",
    "            #temp = [p1[0],p1[1],p2[0]-p1[0],p2[1]-p1[1]]\n",
    "            #temp = [p1[0],p1[1],p2[0],p2[1]]\n",
    "            label = ann['objects'][j]['classTitle']\n",
    "            a = convert_yolor(size, temp)\n",
    "            s = str(label) + ' ' + str(a[0]) + ' ' + str(a[1]) + ' ' + str(a[2]) + ' ' + str(a[3]) + '\\n'\n",
    "            f.write(s)\n",
    "'''"
   ]
  },
  {
   "cell_type": "code",
   "execution_count": null,
   "id": "f1203e96-01b9-4607-9430-cd3d613f8c20",
   "metadata": {},
   "outputs": [],
   "source": []
  },
  {
   "cell_type": "code",
   "execution_count": null,
   "id": "9a2ba3bf-e5e8-4a79-9a19-8f823acddc74",
   "metadata": {},
   "outputs": [],
   "source": []
  },
  {
   "cell_type": "code",
   "execution_count": null,
   "id": "13eb8c53-6bf9-493a-a919-f6d04c6eee69",
   "metadata": {},
   "outputs": [],
   "source": []
  },
  {
   "cell_type": "code",
   "execution_count": 182,
   "id": "e2825ae1-4b64-40e3-b06e-b791947decd2",
   "metadata": {},
   "outputs": [
    {
     "name": "stdout",
     "output_type": "stream",
     "text": [
      "Filesystem     1K-blocks     Used Available Use% Mounted on\n",
      "overlay        103080224 62986520  34834492  65% /\n",
      "tmpfs              65536        0     65536   0% /dev\n",
      "tmpfs           46402516        0  46402516   0% /sys/fs/cgroup\n",
      "shm              2097152      260   2096892   1% /dev/shm\n",
      "/dev/xvdb1     103080224 62986520  34834492  65% /etc/hosts\n",
      "tmpfs           46402516       12  46402504   1% /proc/driver/nvidia\n",
      "/dev/xvda1      49563892 10491500  36531644  23% /usr/bin/nvidia-smi\n",
      "udev            46380852        0  46380852   0% /dev/nvidia0\n",
      "tmpfs           46402516        0  46402516   0% /proc/acpi\n",
      "tmpfs           46402516        0  46402516   0% /proc/scsi\n",
      "tmpfs           46402516        0  46402516   0% /sys/firmware\n"
     ]
    }
   ],
   "source": []
  },
  {
   "cell_type": "code",
   "execution_count": 183,
   "id": "49cf075e-3f64-4687-b0db-7b3679ca966e",
   "metadata": {},
   "outputs": [
    {
     "name": "stdout",
     "output_type": "stream",
     "text": [
      "Filesystem     1K-blocks     Used Available Use% Mounted on\n",
      "overlay        103080224 47033832  50787180  49% /\n",
      "tmpfs              65536        0     65536   0% /dev\n",
      "tmpfs           46402516        0  46402516   0% /sys/fs/cgroup\n",
      "shm              2097152      260   2096892   1% /dev/shm\n",
      "/dev/xvdb1     103080224 47033832  50787180  49% /etc/hosts\n",
      "tmpfs           46402516       12  46402504   1% /proc/driver/nvidia\n",
      "/dev/xvda1      49563892 10492464  36530680  23% /usr/bin/nvidia-smi\n",
      "udev            46380852        0  46380852   0% /dev/nvidia0\n",
      "tmpfs           46402516        0  46402516   0% /proc/acpi\n",
      "tmpfs           46402516        0  46402516   0% /proc/scsi\n",
      "tmpfs           46402516        0  46402516   0% /sys/firmware\n"
     ]
    }
   ],
   "source": []
  },
  {
   "cell_type": "code",
   "execution_count": null,
   "id": "6b56c1b6-adc8-4044-880a-be35628946e3",
   "metadata": {},
   "outputs": [],
   "source": []
  }
 ],
 "metadata": {
  "kernelspec": {
   "display_name": "Python 3 (ipykernel)",
   "language": "python",
   "name": "python3"
  },
  "language_info": {
   "codemirror_mode": {
    "name": "ipython",
    "version": 3
   },
   "file_extension": ".py",
   "mimetype": "text/x-python",
   "name": "python",
   "nbconvert_exporter": "python",
   "pygments_lexer": "ipython3",
   "version": "3.7.11"
  }
 },
 "nbformat": 4,
 "nbformat_minor": 5
}
