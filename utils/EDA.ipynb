{
 "cells": [
  {
   "cell_type": "code",
   "execution_count": 38,
   "metadata": {},
   "outputs": [],
   "source": [
    "import pandas as pd\n",
    "import numpy as np\n",
    "import json\n",
    "from tqdm import tqdm\n",
    "import matplotlib.pyplot as plt\n",
    "from PIL import Image\n",
    "import matplotlib.patches as patches\n",
    "import numpy as np\n",
    "import seaborn as sns\n",
    "import os"
   ]
  },
  {
   "cell_type": "code",
   "execution_count": 39,
   "metadata": {},
   "outputs": [],
   "source": [
    "data_dir = '/opt/ml/project_data/data'\n",
    "sub_data_dir = ['test', 'train', 'val']"
   ]
  },
  {
   "cell_type": "code",
   "execution_count": 40,
   "metadata": {},
   "outputs": [],
   "source": [
    "labels = {0:'Single Helmet',1:'Single No Helmet',2:'Shared Helmet',3:'Shared No Helmet',}\n",
    "label_colors = {0:'black',1:'darkcyan',2:'sienna',3:'gray',}"
   ]
  },
  {
   "cell_type": "markdown",
   "metadata": {},
   "source": [
    "뽑아낼 data: bbox coordinate, bbox area, bbox center, img size, bbox area/ img size, box num, class,"
   ]
  },
  {
   "cell_type": "code",
   "execution_count": 41,
   "metadata": {},
   "outputs": [],
   "source": [
    "annotation=[]\n",
    "for sub_path in sub_data_dir:\n",
    "    ann_dir_path = os.path.join(data_dir, sub_path, \"json\")\n",
    "    for (dirpath, dirnames, filenames) in os.walk(ann_dir_path):\n",
    "        for filename in filenames:\n",
    "            f = open(os.path.join(dirpath, filename))\n",
    "            data = json.load(f)\n",
    "            img_height = data['size']['height']\n",
    "            img_width = data['size']['width']\n",
    "            img_area = img_height*img_width\n",
    "            box_num = len(data['objects'])\n",
    "            bbox_coordinate = dict()\n",
    "            bbox_area = dict()\n",
    "            bbox_center = dict()\n",
    "            bbox_class = dict()\n",
    "            bbox_tags = dict()\n",
    "            bbox_width = dict()\n",
    "            bbox_height = dict()\n",
    "            for idx, obj in enumerate(data['objects']):\n",
    "                tags = {\n",
    "                    \"orientation\": None,\n",
    "                    \"helmet\": None,\n",
    "                    \"alone\": None,\n",
    "                    \"etc\": None\n",
    "                }\n",
    "                for tag in obj['tags']:\n",
    "                    tags[tag['name']] = tag['value']\n",
    "                bbox_tags[idx] = tags\n",
    "                x_min = obj['points']['exterior'][0][0] / img_width\n",
    "                y_min = obj['points']['exterior'][0][1] / img_height\n",
    "                x_max = obj['points']['exterior'][1][0] / img_width\n",
    "                y_max = obj['points']['exterior'][1][1] / img_height\n",
    "                bbox_width[idx] = x_max-x_min\n",
    "                bbox_height[idx] = y_max-y_min\n",
    "                bbox_coordinate[idx] = x_min,y_min,x_max,y_max\n",
    "                bbox_area[idx] = bbox_width[idx]*bbox_height[idx]\n",
    "                bbox_center[idx] = (x_min+x_max)/2,(y_min+y_max)/2\n",
    "                bbox_class[idx] = int(obj['classTitle'])\n",
    "            annotation.append([\n",
    "                os.path.join(dirpath, filename),\n",
    "                img_height,\n",
    "                img_width,\n",
    "                img_area,\n",
    "                box_num,\n",
    "                bbox_coordinate,\n",
    "                bbox_area,\n",
    "                bbox_center,\n",
    "                bbox_class,\n",
    "                bbox_tags,\n",
    "                bbox_height,\n",
    "                bbox_width])\n",
    "                \n",
    "            "
   ]
  },
  {
   "cell_type": "code",
   "execution_count": 42,
   "metadata": {},
   "outputs": [],
   "source": [
    "df = pd.DataFrame(annotation, columns = ['Image dir','Image Height', 'Image Width', 'Image Area', 'Box Num', 'Box Coordinate', 'Box Area', 'Box Center', 'Box Class', 'Box Tag', 'Box Height', 'Box Width'])"
   ]
  },
  {
   "cell_type": "code",
   "execution_count": 43,
   "metadata": {},
   "outputs": [
    {
     "data": {
      "text/html": [
       "<div>\n",
       "<style scoped>\n",
       "    .dataframe tbody tr th:only-of-type {\n",
       "        vertical-align: middle;\n",
       "    }\n",
       "\n",
       "    .dataframe tbody tr th {\n",
       "        vertical-align: top;\n",
       "    }\n",
       "\n",
       "    .dataframe thead th {\n",
       "        text-align: right;\n",
       "    }\n",
       "</style>\n",
       "<table border=\"1\" class=\"dataframe\">\n",
       "  <thead>\n",
       "    <tr style=\"text-align: right;\">\n",
       "      <th></th>\n",
       "      <th>Image dir</th>\n",
       "      <th>Image Height</th>\n",
       "      <th>Image Width</th>\n",
       "      <th>Image Area</th>\n",
       "      <th>Box Num</th>\n",
       "      <th>Box Coordinate</th>\n",
       "      <th>Box Area</th>\n",
       "      <th>Box Center</th>\n",
       "      <th>Box Class</th>\n",
       "      <th>Box Tag</th>\n",
       "      <th>Box Height</th>\n",
       "      <th>Box Width</th>\n",
       "    </tr>\n",
       "  </thead>\n",
       "  <tbody>\n",
       "    <tr>\n",
       "      <th>0</th>\n",
       "      <td>/opt/ml/project_data/data/test/json/self2_0186...</td>\n",
       "      <td>4000</td>\n",
       "      <td>6000</td>\n",
       "      <td>24000000</td>\n",
       "      <td>1</td>\n",
       "      <td>{0: (0.26366666666666666, 0.156, 0.53433333333...</td>\n",
       "      <td>{0: 0.20976666666666668}</td>\n",
       "      <td>{0: (0.399, 0.5435)}</td>\n",
       "      <td>{0: 3}</td>\n",
       "      <td>{0: {'orientation': 'Side', 'helmet': 'False',...</td>\n",
       "      <td>{0: 0.775}</td>\n",
       "      <td>{0: 0.27066666666666667}</td>\n",
       "    </tr>\n",
       "    <tr>\n",
       "      <th>1</th>\n",
       "      <td>/opt/ml/project_data/data/test/json/yt_2_0155....</td>\n",
       "      <td>760</td>\n",
       "      <td>1299</td>\n",
       "      <td>987240</td>\n",
       "      <td>3</td>\n",
       "      <td>{0: (0.6481909160892995, 0.12763157894736843, ...</td>\n",
       "      <td>{0: 0.16836939346055668, 1: 0.0496434504274543...</td>\n",
       "      <td>{0: (0.7455735180908392, 0.5598684210526316), ...</td>\n",
       "      <td>{0: 1, 1: 1, 2: 1}</td>\n",
       "      <td>{0: {'orientation': 'Side', 'helmet': 'False',...</td>\n",
       "      <td>{0: 0.8644736842105263, 1: 0.49605263157894736...</td>\n",
       "      <td>{0: 0.19476520400307928, 1: 0.1000769822940723...</td>\n",
       "    </tr>\n",
       "    <tr>\n",
       "      <th>2</th>\n",
       "      <td>/opt/ml/project_data/data/test/json/yt_2_0009....</td>\n",
       "      <td>1596</td>\n",
       "      <td>2880</td>\n",
       "      <td>4596480</td>\n",
       "      <td>1</td>\n",
       "      <td>{0: (0.584375, 0.33458646616541354, 0.75590277...</td>\n",
       "      <td>{0: 0.08888062169312173}</td>\n",
       "      <td>{0: (0.6701388888888888, 0.593671679197995)}</td>\n",
       "      <td>{0: 0}</td>\n",
       "      <td>{0: {'orientation': 'Side', 'helmet': 'True', ...</td>\n",
       "      <td>{0: 0.518170426065163}</td>\n",
       "      <td>{0: 0.17152777777777783}</td>\n",
       "    </tr>\n",
       "    <tr>\n",
       "      <th>3</th>\n",
       "      <td>/opt/ml/project_data/data/test/json/self2_0057...</td>\n",
       "      <td>4000</td>\n",
       "      <td>6000</td>\n",
       "      <td>24000000</td>\n",
       "      <td>1</td>\n",
       "      <td>{0: (0.5733333333333334, 0.47875, 0.6438333333...</td>\n",
       "      <td>{0: 0.017783625}</td>\n",
       "      <td>{0: (0.6085833333333334, 0.604875)}</td>\n",
       "      <td>{0: 3}</td>\n",
       "      <td>{0: {'orientation': 'Rear', 'helmet': 'False',...</td>\n",
       "      <td>{0: 0.25225}</td>\n",
       "      <td>{0: 0.07050000000000001}</td>\n",
       "    </tr>\n",
       "    <tr>\n",
       "      <th>4</th>\n",
       "      <td>/opt/ml/project_data/data/test/json/yt_2_0095....</td>\n",
       "      <td>710</td>\n",
       "      <td>1323</td>\n",
       "      <td>939330</td>\n",
       "      <td>1</td>\n",
       "      <td>{0: (0.6288737717309146, 0.5605633802816902, 0...</td>\n",
       "      <td>{0: 0.026980933218357737}</td>\n",
       "      <td>{0: (0.6651549508692366, 0.7464788732394366)}</td>\n",
       "      <td>{0: 1}</td>\n",
       "      <td>{0: {'orientation': 'Rear', 'helmet': 'False',...</td>\n",
       "      <td>{0: 0.3718309859154929}</td>\n",
       "      <td>{0: 0.07256235827664392}</td>\n",
       "    </tr>\n",
       "  </tbody>\n",
       "</table>\n",
       "</div>"
      ],
      "text/plain": [
       "                                           Image dir  Image Height  \\\n",
       "0  /opt/ml/project_data/data/test/json/self2_0186...          4000   \n",
       "1  /opt/ml/project_data/data/test/json/yt_2_0155....           760   \n",
       "2  /opt/ml/project_data/data/test/json/yt_2_0009....          1596   \n",
       "3  /opt/ml/project_data/data/test/json/self2_0057...          4000   \n",
       "4  /opt/ml/project_data/data/test/json/yt_2_0095....           710   \n",
       "\n",
       "   Image Width  Image Area  Box Num  \\\n",
       "0         6000    24000000        1   \n",
       "1         1299      987240        3   \n",
       "2         2880     4596480        1   \n",
       "3         6000    24000000        1   \n",
       "4         1323      939330        1   \n",
       "\n",
       "                                      Box Coordinate  \\\n",
       "0  {0: (0.26366666666666666, 0.156, 0.53433333333...   \n",
       "1  {0: (0.6481909160892995, 0.12763157894736843, ...   \n",
       "2  {0: (0.584375, 0.33458646616541354, 0.75590277...   \n",
       "3  {0: (0.5733333333333334, 0.47875, 0.6438333333...   \n",
       "4  {0: (0.6288737717309146, 0.5605633802816902, 0...   \n",
       "\n",
       "                                            Box Area  \\\n",
       "0                           {0: 0.20976666666666668}   \n",
       "1  {0: 0.16836939346055668, 1: 0.0496434504274543...   \n",
       "2                           {0: 0.08888062169312173}   \n",
       "3                                   {0: 0.017783625}   \n",
       "4                          {0: 0.026980933218357737}   \n",
       "\n",
       "                                          Box Center           Box Class  \\\n",
       "0                               {0: (0.399, 0.5435)}              {0: 3}   \n",
       "1  {0: (0.7455735180908392, 0.5598684210526316), ...  {0: 1, 1: 1, 2: 1}   \n",
       "2       {0: (0.6701388888888888, 0.593671679197995)}              {0: 0}   \n",
       "3                {0: (0.6085833333333334, 0.604875)}              {0: 3}   \n",
       "4      {0: (0.6651549508692366, 0.7464788732394366)}              {0: 1}   \n",
       "\n",
       "                                             Box Tag  \\\n",
       "0  {0: {'orientation': 'Side', 'helmet': 'False',...   \n",
       "1  {0: {'orientation': 'Side', 'helmet': 'False',...   \n",
       "2  {0: {'orientation': 'Side', 'helmet': 'True', ...   \n",
       "3  {0: {'orientation': 'Rear', 'helmet': 'False',...   \n",
       "4  {0: {'orientation': 'Rear', 'helmet': 'False',...   \n",
       "\n",
       "                                          Box Height  \\\n",
       "0                                         {0: 0.775}   \n",
       "1  {0: 0.8644736842105263, 1: 0.49605263157894736...   \n",
       "2                             {0: 0.518170426065163}   \n",
       "3                                       {0: 0.25225}   \n",
       "4                            {0: 0.3718309859154929}   \n",
       "\n",
       "                                           Box Width  \n",
       "0                           {0: 0.27066666666666667}  \n",
       "1  {0: 0.19476520400307928, 1: 0.1000769822940723...  \n",
       "2                           {0: 0.17152777777777783}  \n",
       "3                           {0: 0.07050000000000001}  \n",
       "4                           {0: 0.07256235827664392}  "
      ]
     },
     "execution_count": 43,
     "metadata": {},
     "output_type": "execute_result"
    }
   ],
   "source": [
    "df.head()"
   ]
  },
  {
   "cell_type": "code",
   "execution_count": 44,
   "metadata": {},
   "outputs": [
    {
     "data": {
      "text/plain": [
       "<AxesSubplot:ylabel='Image Area'>"
      ]
     },
     "execution_count": 44,
     "metadata": {},
     "output_type": "execute_result"
    },
    {
     "data": {
      "image/png": "[encoded data removed]",
      "text/plain": [
       "<Figure size 216x576 with 1 Axes>"
      ]
     },
     "metadata": {
      "needs_background": "light"
     },
     "output_type": "display_data"
    }
   ],
   "source": [
    "f, ax = plt.subplots(1,1, figsize = (3,8))\n",
    "plt.suptitle(\"Area Distribution\", fontsize = 20)\n",
    "sns.boxplot(y='Image Area', data=df, ax=ax)"
   ]
  },
  {
   "cell_type": "code",
   "execution_count": 45,
   "metadata": {},
   "outputs": [
    {
     "data": {
      "text/plain": [
       "<AxesSubplot:ylabel='Box Num'>"
      ]
     },
     "execution_count": 45,
     "metadata": {},
     "output_type": "execute_result"
    },
    {
     "data": {
      "image/png": "[encoded data removed]",
      "text/plain": [
       "<Figure size 1080x360 with 1 Axes>"
      ]
     },
     "metadata": {
      "needs_background": "light"
     },
     "output_type": "display_data"
    }
   ],
   "source": [
    "f, ax = plt.subplots(1,1, figsize = (15,5))\n",
    "plt.suptitle(\"# of objects per image\", fontsize = 20)\n",
    "sns.boxplot(y='Box Num', data=df, ax=ax)\n"
   ]
  },
  {
   "cell_type": "code",
   "execution_count": 46,
   "metadata": {},
   "outputs": [],
   "source": [
    "from collections import Counter\n",
    "cat_num = Counter()\n",
    "for index, row in df.iterrows():\n",
    "    for label in row['Box Class'].values():\n",
    "        cat_num.update(str(label))\n"
   ]
  },
  {
   "cell_type": "code",
   "execution_count": 47,
   "metadata": {},
   "outputs": [],
   "source": [
    "df_cat_num = pd.DataFrame.from_dict(cat_num, orient='index', columns=['Number of box']).sort_index()"
   ]
  },
  {
   "cell_type": "code",
   "execution_count": 48,
   "metadata": {},
   "outputs": [
    {
     "data": {
      "text/plain": [
       "<AxesSubplot:ylabel='Number of box'>"
      ]
     },
     "execution_count": 48,
     "metadata": {},
     "output_type": "execute_result"
    },
    {
     "data": {
      "image/png": "[encoded data removed]",
      "text/plain": [
       "<Figure size 1080x360 with 1 Axes>"
      ]
     },
     "metadata": {
      "needs_background": "light"
     },
     "output_type": "display_data"
    }
   ],
   "source": [
    "f, ax = plt.subplots(1,1, figsize = (15,5))\n",
    "plt.suptitle(\"# of objects via category\", fontsize = 20)\n",
    "sns.barplot(x=df_cat_num.index, y='Number of box', data=df_cat_num, ax=ax)"
   ]
  },
  {
   "cell_type": "code",
   "execution_count": 49,
   "metadata": {},
   "outputs": [
    {
     "data": {
      "text/plain": [
       "Index(['Image dir', 'Image Height', 'Image Width', 'Image Area', 'Box Num',\n",
       "       'Box Coordinate', 'Box Area', 'Box Center', 'Box Class', 'Box Tag',\n",
       "       'Box Height', 'Box Width'],\n",
       "      dtype='object')"
      ]
     },
     "execution_count": 49,
     "metadata": {},
     "output_type": "execute_result"
    }
   ],
   "source": [
    "df.columns"
   ]
  },
  {
   "cell_type": "code",
   "execution_count": 50,
   "metadata": {},
   "outputs": [],
   "source": [
    "box_properties=[]\n",
    "for index, row in df.iterrows():\n",
    "    for i in range(row['Box Num']):\n",
    "        box_properties.append([\n",
    "            row['Box Class'][i],\n",
    "            row['Box Coordinate'][i],\n",
    "            row['Box Height'][i],\n",
    "            row['Box Width'][i],\n",
    "            row['Box Center'][i],\n",
    "            row['Box Area'][i],\n",
    "            row['Box Tag'][i]['orientation'],\n",
    "            row['Box Tag'][i]['helmet'],\n",
    "            row['Box Tag'][i]['alone'],\n",
    "            row['Box Tag'][i]['etc'],\n",
    "        ])"
   ]
  },
  {
   "cell_type": "code",
   "execution_count": 51,
   "metadata": {},
   "outputs": [],
   "source": [
    "df_box = pd.DataFrame(\n",
    "    box_properties,\n",
    "    columns=[\n",
    "        'Label',\n",
    "        'Coordinate',\n",
    "        'Height',\n",
    "        'Width',\n",
    "        'Center',\n",
    "        'Area',\n",
    "        'Orientation',\n",
    "        'Helmet',\n",
    "        'Alone',\n",
    "        'Etc.',\n",
    "    ]\n",
    ")"
   ]
  },
  {
   "cell_type": "code",
   "execution_count": 52,
   "metadata": {},
   "outputs": [],
   "source": [
    "df_box = df_box.assign(Ratio=lambda x: x['Height']/x['Width'], )"
   ]
  },
  {
   "cell_type": "code",
   "execution_count": 53,
   "metadata": {},
   "outputs": [],
   "source": [
    "df_box['Orientation'] = df_box['Orientation'].map(lambda x: 'Side' if x == 'Side' else 'F&B', )"
   ]
  },
  {
   "cell_type": "code",
   "execution_count": 54,
   "metadata": {},
   "outputs": [
    {
     "data": {
      "text/html": [
       "<div>\n",
       "<style scoped>\n",
       "    .dataframe tbody tr th:only-of-type {\n",
       "        vertical-align: middle;\n",
       "    }\n",
       "\n",
       "    .dataframe tbody tr th {\n",
       "        vertical-align: top;\n",
       "    }\n",
       "\n",
       "    .dataframe thead th {\n",
       "        text-align: right;\n",
       "    }\n",
       "</style>\n",
       "<table border=\"1\" class=\"dataframe\">\n",
       "  <thead>\n",
       "    <tr style=\"text-align: right;\">\n",
       "      <th></th>\n",
       "      <th>Label</th>\n",
       "      <th>Coordinate</th>\n",
       "      <th>Height</th>\n",
       "      <th>Width</th>\n",
       "      <th>Center</th>\n",
       "      <th>Area</th>\n",
       "      <th>Orientation</th>\n",
       "      <th>Helmet</th>\n",
       "      <th>Alone</th>\n",
       "      <th>Etc.</th>\n",
       "      <th>Ratio</th>\n",
       "    </tr>\n",
       "  </thead>\n",
       "  <tbody>\n",
       "    <tr>\n",
       "      <th>0</th>\n",
       "      <td>Shared No Helmet</td>\n",
       "      <td>(0.26366666666666666, 0.156, 0.534333333333333...</td>\n",
       "      <td>0.775000</td>\n",
       "      <td>0.270667</td>\n",
       "      <td>(0.399, 0.5435)</td>\n",
       "      <td>0.209767</td>\n",
       "      <td>Side</td>\n",
       "      <td>False</td>\n",
       "      <td>False</td>\n",
       "      <td>blur</td>\n",
       "      <td>2.863300</td>\n",
       "    </tr>\n",
       "    <tr>\n",
       "      <th>1</th>\n",
       "      <td>Single No Helmet</td>\n",
       "      <td>(0.6481909160892995, 0.12763157894736843, 0.84...</td>\n",
       "      <td>0.864474</td>\n",
       "      <td>0.194765</td>\n",
       "      <td>(0.7455735180908392, 0.5598684210526316)</td>\n",
       "      <td>0.168369</td>\n",
       "      <td>Side</td>\n",
       "      <td>False</td>\n",
       "      <td>True</td>\n",
       "      <td>blur</td>\n",
       "      <td>4.438543</td>\n",
       "    </tr>\n",
       "    <tr>\n",
       "      <th>2</th>\n",
       "      <td>Single No Helmet</td>\n",
       "      <td>(0.4926866820631255, 0.18026315789473685, 0.59...</td>\n",
       "      <td>0.496053</td>\n",
       "      <td>0.100077</td>\n",
       "      <td>(0.5427251732101617, 0.42828947368421055)</td>\n",
       "      <td>0.049643</td>\n",
       "      <td>Side</td>\n",
       "      <td>False</td>\n",
       "      <td>True</td>\n",
       "      <td>None</td>\n",
       "      <td>4.956711</td>\n",
       "    </tr>\n",
       "    <tr>\n",
       "      <th>3</th>\n",
       "      <td>Single No Helmet</td>\n",
       "      <td>(0.4257120862201694, 0.2565789473684211, 0.467...</td>\n",
       "      <td>0.273684</td>\n",
       "      <td>0.041570</td>\n",
       "      <td>(0.44649730561970746, 0.393421052631579)</td>\n",
       "      <td>0.011377</td>\n",
       "      <td>F&amp;B</td>\n",
       "      <td>False</td>\n",
       "      <td>True</td>\n",
       "      <td>None</td>\n",
       "      <td>6.583626</td>\n",
       "    </tr>\n",
       "    <tr>\n",
       "      <th>4</th>\n",
       "      <td>Single Helmet</td>\n",
       "      <td>(0.584375, 0.33458646616541354, 0.755902777777...</td>\n",
       "      <td>0.518170</td>\n",
       "      <td>0.171528</td>\n",
       "      <td>(0.6701388888888888, 0.593671679197995)</td>\n",
       "      <td>0.088881</td>\n",
       "      <td>Side</td>\n",
       "      <td>True</td>\n",
       "      <td>True</td>\n",
       "      <td>None</td>\n",
       "      <td>3.020913</td>\n",
       "    </tr>\n",
       "    <tr>\n",
       "      <th>...</th>\n",
       "      <td>...</td>\n",
       "      <td>...</td>\n",
       "      <td>...</td>\n",
       "      <td>...</td>\n",
       "      <td>...</td>\n",
       "      <td>...</td>\n",
       "      <td>...</td>\n",
       "      <td>...</td>\n",
       "      <td>...</td>\n",
       "      <td>...</td>\n",
       "      <td>...</td>\n",
       "    </tr>\n",
       "    <tr>\n",
       "      <th>1677</th>\n",
       "      <td>Shared No Helmet</td>\n",
       "      <td>(0.39216666666666666, 0.1535, 0.61666666666666...</td>\n",
       "      <td>0.806750</td>\n",
       "      <td>0.224500</td>\n",
       "      <td>(0.5044166666666667, 0.556875)</td>\n",
       "      <td>0.181115</td>\n",
       "      <td>F&amp;B</td>\n",
       "      <td>False</td>\n",
       "      <td>False</td>\n",
       "      <td>None</td>\n",
       "      <td>3.593541</td>\n",
       "    </tr>\n",
       "    <tr>\n",
       "      <th>1678</th>\n",
       "      <td>Single No Helmet</td>\n",
       "      <td>(0.6319444444444444, 0.30137844611528825, 0.79...</td>\n",
       "      <td>0.491228</td>\n",
       "      <td>0.165278</td>\n",
       "      <td>(0.7145833333333333, 0.5469924812030076)</td>\n",
       "      <td>0.081189</td>\n",
       "      <td>Side</td>\n",
       "      <td>False</td>\n",
       "      <td>True</td>\n",
       "      <td>None</td>\n",
       "      <td>2.972136</td>\n",
       "    </tr>\n",
       "    <tr>\n",
       "      <th>1679</th>\n",
       "      <td>Single Helmet</td>\n",
       "      <td>(0.4861111111111111, 0.3484276729559748, 0.595...</td>\n",
       "      <td>0.404403</td>\n",
       "      <td>0.109375</td>\n",
       "      <td>(0.5407986111111112, 0.5506289308176101)</td>\n",
       "      <td>0.044232</td>\n",
       "      <td>Side</td>\n",
       "      <td>True</td>\n",
       "      <td>True</td>\n",
       "      <td>None</td>\n",
       "      <td>3.697394</td>\n",
       "    </tr>\n",
       "    <tr>\n",
       "      <th>1680</th>\n",
       "      <td>Single No Helmet</td>\n",
       "      <td>(0.44216666666666665, 0.31575, 0.5345, 0.65975)</td>\n",
       "      <td>0.344000</td>\n",
       "      <td>0.092333</td>\n",
       "      <td>(0.4883333333333333, 0.48774999999999996)</td>\n",
       "      <td>0.031763</td>\n",
       "      <td>Side</td>\n",
       "      <td>False</td>\n",
       "      <td>True</td>\n",
       "      <td>None</td>\n",
       "      <td>3.725632</td>\n",
       "    </tr>\n",
       "    <tr>\n",
       "      <th>1681</th>\n",
       "      <td>Single No Helmet</td>\n",
       "      <td>(0.5353333333333333, 0.502, 0.6236666666666667...</td>\n",
       "      <td>0.382500</td>\n",
       "      <td>0.088333</td>\n",
       "      <td>(0.5795, 0.6932499999999999)</td>\n",
       "      <td>0.033788</td>\n",
       "      <td>Side</td>\n",
       "      <td>False</td>\n",
       "      <td>True</td>\n",
       "      <td>None</td>\n",
       "      <td>4.330189</td>\n",
       "    </tr>\n",
       "  </tbody>\n",
       "</table>\n",
       "<p>1682 rows × 11 columns</p>\n",
       "</div>"
      ],
      "text/plain": [
       "                 Label                                         Coordinate  \\\n",
       "0     Shared No Helmet  (0.26366666666666666, 0.156, 0.534333333333333...   \n",
       "1     Single No Helmet  (0.6481909160892995, 0.12763157894736843, 0.84...   \n",
       "2     Single No Helmet  (0.4926866820631255, 0.18026315789473685, 0.59...   \n",
       "3     Single No Helmet  (0.4257120862201694, 0.2565789473684211, 0.467...   \n",
       "4        Single Helmet  (0.584375, 0.33458646616541354, 0.755902777777...   \n",
       "...                ...                                                ...   \n",
       "1677  Shared No Helmet  (0.39216666666666666, 0.1535, 0.61666666666666...   \n",
       "1678  Single No Helmet  (0.6319444444444444, 0.30137844611528825, 0.79...   \n",
       "1679     Single Helmet  (0.4861111111111111, 0.3484276729559748, 0.595...   \n",
       "1680  Single No Helmet    (0.44216666666666665, 0.31575, 0.5345, 0.65975)   \n",
       "1681  Single No Helmet  (0.5353333333333333, 0.502, 0.6236666666666667...   \n",
       "\n",
       "        Height     Width                                     Center      Area  \\\n",
       "0     0.775000  0.270667                            (0.399, 0.5435)  0.209767   \n",
       "1     0.864474  0.194765   (0.7455735180908392, 0.5598684210526316)  0.168369   \n",
       "2     0.496053  0.100077  (0.5427251732101617, 0.42828947368421055)  0.049643   \n",
       "3     0.273684  0.041570   (0.44649730561970746, 0.393421052631579)  0.011377   \n",
       "4     0.518170  0.171528    (0.6701388888888888, 0.593671679197995)  0.088881   \n",
       "...        ...       ...                                        ...       ...   \n",
       "1677  0.806750  0.224500             (0.5044166666666667, 0.556875)  0.181115   \n",
       "1678  0.491228  0.165278   (0.7145833333333333, 0.5469924812030076)  0.081189   \n",
       "1679  0.404403  0.109375   (0.5407986111111112, 0.5506289308176101)  0.044232   \n",
       "1680  0.344000  0.092333  (0.4883333333333333, 0.48774999999999996)  0.031763   \n",
       "1681  0.382500  0.088333               (0.5795, 0.6932499999999999)  0.033788   \n",
       "\n",
       "     Orientation Helmet  Alone  Etc.     Ratio  \n",
       "0           Side  False  False  blur  2.863300  \n",
       "1           Side  False   True  blur  4.438543  \n",
       "2           Side  False   True  None  4.956711  \n",
       "3            F&B  False   True  None  6.583626  \n",
       "4           Side   True   True  None  3.020913  \n",
       "...          ...    ...    ...   ...       ...  \n",
       "1677         F&B  False  False  None  3.593541  \n",
       "1678        Side  False   True  None  2.972136  \n",
       "1679        Side   True   True  None  3.697394  \n",
       "1680        Side  False   True  None  3.725632  \n",
       "1681        Side  False   True  None  4.330189  \n",
       "\n",
       "[1682 rows x 11 columns]"
      ]
     },
     "execution_count": 54,
     "metadata": {},
     "output_type": "execute_result"
    }
   ],
   "source": [
    "df_box['Label'] = df_box['Label'].apply(lambda x: labels[x])\n",
    "df_box"
   ]
  },
  {
   "cell_type": "code",
   "execution_count": 55,
   "metadata": {},
   "outputs": [
    {
     "data": {
      "image/png": "[encoded data removed]",
      "text/plain": [
       "<Figure size 864x504 with 1 Axes>"
      ]
     },
     "metadata": {
      "needs_background": "light"
     },
     "output_type": "display_data"
    }
   ],
   "source": [
    "fig, ax = plt.subplots(1,1, figsize=(12, 7))\n",
    "sns.boxplot(x='Label',hue='Orientation', y='Ratio', data=df_box, ax=ax,\n",
    "              )\n",
    "ax.set_title('Box Ratio via labels', fontsize=24)\n",
    "plt.show()"
   ]
  },
  {
   "cell_type": "code",
   "execution_count": 56,
   "metadata": {},
   "outputs": [
    {
     "data": {
      "image/png": "[encoded data removed]",
      "text/plain": [
       "<Figure size 360x504 with 1 Axes>"
      ]
     },
     "metadata": {
      "needs_background": "light"
     },
     "output_type": "display_data"
    },
    {
     "name": "stdout",
     "output_type": "stream",
     "text": [
      "<pandas.core.groupby.generic.DataFrameGroupBy object at 0x7f2582aa8e50>\n"
     ]
    }
   ],
   "source": [
    "fig, ax = plt.subplots(1,1, figsize=(5, 7))\n",
    "sns.boxplot( x='Orientation',y='Width', data=df_box, ax=ax,\n",
    "              )\n",
    "ax.set_title('Box width dist.', fontsize=24)\n",
    "plt.show()\n",
    "print(df_box[['Width','Orientation']].groupby('Orientation'))"
   ]
  },
  {
   "cell_type": "code",
   "execution_count": 57,
   "metadata": {},
   "outputs": [
    {
     "data": {
      "text/html": [
       "<div>\n",
       "<style scoped>\n",
       "    .dataframe tbody tr th:only-of-type {\n",
       "        vertical-align: middle;\n",
       "    }\n",
       "\n",
       "    .dataframe tbody tr th {\n",
       "        vertical-align: top;\n",
       "    }\n",
       "\n",
       "    .dataframe thead th {\n",
       "        text-align: right;\n",
       "    }\n",
       "</style>\n",
       "<table border=\"1\" class=\"dataframe\">\n",
       "  <thead>\n",
       "    <tr style=\"text-align: right;\">\n",
       "      <th></th>\n",
       "      <th>Width</th>\n",
       "    </tr>\n",
       "    <tr>\n",
       "      <th>Orientation</th>\n",
       "      <th></th>\n",
       "    </tr>\n",
       "  </thead>\n",
       "  <tbody>\n",
       "    <tr>\n",
       "      <th>F&amp;B</th>\n",
       "      <td>570</td>\n",
       "    </tr>\n",
       "    <tr>\n",
       "      <th>Side</th>\n",
       "      <td>1112</td>\n",
       "    </tr>\n",
       "  </tbody>\n",
       "</table>\n",
       "</div>"
      ],
      "text/plain": [
       "             Width\n",
       "Orientation       \n",
       "F&B            570\n",
       "Side          1112"
      ]
     },
     "execution_count": 57,
     "metadata": {},
     "output_type": "execute_result"
    }
   ],
   "source": [
    "df_box[['Width','Orientation']].groupby('Orientation').count()"
   ]
  },
  {
   "cell_type": "code",
   "execution_count": 79,
   "metadata": {},
   "outputs": [
    {
     "data": {
      "text/html": [
       "<div>\n",
       "<style scoped>\n",
       "    .dataframe tbody tr th:only-of-type {\n",
       "        vertical-align: middle;\n",
       "    }\n",
       "\n",
       "    .dataframe tbody tr th {\n",
       "        vertical-align: top;\n",
       "    }\n",
       "\n",
       "    .dataframe thead tr th {\n",
       "        text-align: left;\n",
       "    }\n",
       "\n",
       "    .dataframe thead tr:last-of-type th {\n",
       "        text-align: right;\n",
       "    }\n",
       "</style>\n",
       "<table border=\"1\" class=\"dataframe\">\n",
       "  <thead>\n",
       "    <tr>\n",
       "      <th></th>\n",
       "      <th colspan=\"8\" halign=\"left\">Width</th>\n",
       "    </tr>\n",
       "    <tr>\n",
       "      <th></th>\n",
       "      <th>count</th>\n",
       "      <th>mean</th>\n",
       "      <th>std</th>\n",
       "      <th>min</th>\n",
       "      <th>25%</th>\n",
       "      <th>50%</th>\n",
       "      <th>75%</th>\n",
       "      <th>max</th>\n",
       "    </tr>\n",
       "    <tr>\n",
       "      <th>Orientation</th>\n",
       "      <th></th>\n",
       "      <th></th>\n",
       "      <th></th>\n",
       "      <th></th>\n",
       "      <th></th>\n",
       "      <th></th>\n",
       "      <th></th>\n",
       "      <th></th>\n",
       "    </tr>\n",
       "  </thead>\n",
       "  <tbody>\n",
       "    <tr>\n",
       "      <th>F&amp;B</th>\n",
       "      <td>570.0</td>\n",
       "      <td>0.093159</td>\n",
       "      <td>0.070364</td>\n",
       "      <td>0.009986</td>\n",
       "      <td>0.044204</td>\n",
       "      <td>0.077201</td>\n",
       "      <td>0.122037</td>\n",
       "      <td>0.648447</td>\n",
       "    </tr>\n",
       "    <tr>\n",
       "      <th>Side</th>\n",
       "      <td>1112.0</td>\n",
       "      <td>0.165836</td>\n",
       "      <td>0.109441</td>\n",
       "      <td>0.011437</td>\n",
       "      <td>0.082008</td>\n",
       "      <td>0.141268</td>\n",
       "      <td>0.228625</td>\n",
       "      <td>0.782292</td>\n",
       "    </tr>\n",
       "  </tbody>\n",
       "</table>\n",
       "</div>"
      ],
      "text/plain": [
       "              Width                                                    \\\n",
       "              count      mean       std       min       25%       50%   \n",
       "Orientation                                                             \n",
       "F&B           570.0  0.093159  0.070364  0.009986  0.044204  0.077201   \n",
       "Side         1112.0  0.165836  0.109441  0.011437  0.082008  0.141268   \n",
       "\n",
       "                                 \n",
       "                  75%       max  \n",
       "Orientation                      \n",
       "F&B          0.122037  0.648447  \n",
       "Side         0.228625  0.782292  "
      ]
     },
     "execution_count": 79,
     "metadata": {},
     "output_type": "execute_result"
    }
   ],
   "source": [
    "df_box[['Width','Orientation']].groupby('Orientation').describe()"
   ]
  },
  {
   "cell_type": "code",
   "execution_count": 76,
   "metadata": {},
   "outputs": [
    {
     "data": {
      "image/png": "[encoded data removed]",
      "text/plain": [
       "<Figure size 360x504 with 1 Axes>"
      ]
     },
     "metadata": {
      "needs_background": "light"
     },
     "output_type": "display_data"
    },
    {
     "name": "stdout",
     "output_type": "stream",
     "text": [
      "0.46237629557400717\n"
     ]
    }
   ],
   "source": [
    "fig, ax = plt.subplots(1,1, figsize=(5, 7))\n",
    "sns.boxplot( x = 'Orientation',y='Height', data=df_box, ax=ax,\n",
    "              )\n",
    "ax.set_title('Box Height dist.', fontsize=24)\n",
    "plt.show()\n",
    "print(df_box['Height'].mean())"
   ]
  },
  {
   "cell_type": "code",
   "execution_count": 81,
   "metadata": {},
   "outputs": [
    {
     "data": {
      "text/html": [
       "<div>\n",
       "<style scoped>\n",
       "    .dataframe tbody tr th:only-of-type {\n",
       "        vertical-align: middle;\n",
       "    }\n",
       "\n",
       "    .dataframe tbody tr th {\n",
       "        vertical-align: top;\n",
       "    }\n",
       "\n",
       "    .dataframe thead tr th {\n",
       "        text-align: left;\n",
       "    }\n",
       "\n",
       "    .dataframe thead tr:last-of-type th {\n",
       "        text-align: right;\n",
       "    }\n",
       "</style>\n",
       "<table border=\"1\" class=\"dataframe\">\n",
       "  <thead>\n",
       "    <tr>\n",
       "      <th></th>\n",
       "      <th colspan=\"8\" halign=\"left\">Height</th>\n",
       "    </tr>\n",
       "    <tr>\n",
       "      <th></th>\n",
       "      <th>count</th>\n",
       "      <th>mean</th>\n",
       "      <th>std</th>\n",
       "      <th>min</th>\n",
       "      <th>25%</th>\n",
       "      <th>50%</th>\n",
       "      <th>75%</th>\n",
       "      <th>max</th>\n",
       "    </tr>\n",
       "    <tr>\n",
       "      <th>Orientation</th>\n",
       "      <th></th>\n",
       "      <th></th>\n",
       "      <th></th>\n",
       "      <th></th>\n",
       "      <th></th>\n",
       "      <th></th>\n",
       "      <th></th>\n",
       "      <th></th>\n",
       "    </tr>\n",
       "  </thead>\n",
       "  <tbody>\n",
       "    <tr>\n",
       "      <th>F&amp;B</th>\n",
       "      <td>570.0</td>\n",
       "      <td>0.398654</td>\n",
       "      <td>0.235443</td>\n",
       "      <td>0.052632</td>\n",
       "      <td>0.214401</td>\n",
       "      <td>0.335500</td>\n",
       "      <td>0.552608</td>\n",
       "      <td>0.994048</td>\n",
       "    </tr>\n",
       "    <tr>\n",
       "      <th>Side</th>\n",
       "      <td>1112.0</td>\n",
       "      <td>0.495040</td>\n",
       "      <td>0.257292</td>\n",
       "      <td>0.050000</td>\n",
       "      <td>0.284375</td>\n",
       "      <td>0.475574</td>\n",
       "      <td>0.708659</td>\n",
       "      <td>1.000000</td>\n",
       "    </tr>\n",
       "  </tbody>\n",
       "</table>\n",
       "</div>"
      ],
      "text/plain": [
       "             Height                                                    \\\n",
       "              count      mean       std       min       25%       50%   \n",
       "Orientation                                                             \n",
       "F&B           570.0  0.398654  0.235443  0.052632  0.214401  0.335500   \n",
       "Side         1112.0  0.495040  0.257292  0.050000  0.284375  0.475574   \n",
       "\n",
       "                                 \n",
       "                  75%       max  \n",
       "Orientation                      \n",
       "F&B          0.552608  0.994048  \n",
       "Side         0.708659  1.000000  "
      ]
     },
     "execution_count": 81,
     "metadata": {},
     "output_type": "execute_result"
    }
   ],
   "source": [
    "df_box[['Height','Orientation']].groupby('Orientation').describe()"
   ]
  },
  {
   "cell_type": "code",
   "execution_count": 80,
   "metadata": {},
   "outputs": [
    {
     "data": {
      "text/html": [
       "<div>\n",
       "<style scoped>\n",
       "    .dataframe tbody tr th:only-of-type {\n",
       "        vertical-align: middle;\n",
       "    }\n",
       "\n",
       "    .dataframe tbody tr th {\n",
       "        vertical-align: top;\n",
       "    }\n",
       "\n",
       "    .dataframe thead tr th {\n",
       "        text-align: left;\n",
       "    }\n",
       "\n",
       "    .dataframe thead tr:last-of-type th {\n",
       "        text-align: right;\n",
       "    }\n",
       "</style>\n",
       "<table border=\"1\" class=\"dataframe\">\n",
       "  <thead>\n",
       "    <tr>\n",
       "      <th></th>\n",
       "      <th colspan=\"8\" halign=\"left\">Ratio</th>\n",
       "    </tr>\n",
       "    <tr>\n",
       "      <th></th>\n",
       "      <th>count</th>\n",
       "      <th>mean</th>\n",
       "      <th>std</th>\n",
       "      <th>min</th>\n",
       "      <th>25%</th>\n",
       "      <th>50%</th>\n",
       "      <th>75%</th>\n",
       "      <th>max</th>\n",
       "    </tr>\n",
       "    <tr>\n",
       "      <th>Orientation</th>\n",
       "      <th></th>\n",
       "      <th></th>\n",
       "      <th></th>\n",
       "      <th></th>\n",
       "      <th></th>\n",
       "      <th></th>\n",
       "      <th></th>\n",
       "      <th></th>\n",
       "    </tr>\n",
       "  </thead>\n",
       "  <tbody>\n",
       "    <tr>\n",
       "      <th>F&amp;B</th>\n",
       "      <td>570.0</td>\n",
       "      <td>4.628884</td>\n",
       "      <td>1.137694</td>\n",
       "      <td>1.148453</td>\n",
       "      <td>4.034615</td>\n",
       "      <td>4.597994</td>\n",
       "      <td>5.194963</td>\n",
       "      <td>8.913232</td>\n",
       "    </tr>\n",
       "    <tr>\n",
       "      <th>Side</th>\n",
       "      <td>1112.0</td>\n",
       "      <td>3.325968</td>\n",
       "      <td>1.000747</td>\n",
       "      <td>1.018897</td>\n",
       "      <td>2.590166</td>\n",
       "      <td>3.123912</td>\n",
       "      <td>3.972917</td>\n",
       "      <td>8.479750</td>\n",
       "    </tr>\n",
       "  </tbody>\n",
       "</table>\n",
       "</div>"
      ],
      "text/plain": [
       "              Ratio                                                    \\\n",
       "              count      mean       std       min       25%       50%   \n",
       "Orientation                                                             \n",
       "F&B           570.0  4.628884  1.137694  1.148453  4.034615  4.597994   \n",
       "Side         1112.0  3.325968  1.000747  1.018897  2.590166  3.123912   \n",
       "\n",
       "                                 \n",
       "                  75%       max  \n",
       "Orientation                      \n",
       "F&B          5.194963  8.913232  \n",
       "Side         3.972917  8.479750  "
      ]
     },
     "execution_count": 80,
     "metadata": {},
     "output_type": "execute_result"
    }
   ],
   "source": [
    "df_box[['Ratio','Orientation']].groupby('Orientation').describe()"
   ]
  },
  {
   "cell_type": "code",
   "execution_count": 62,
   "metadata": {},
   "outputs": [],
   "source": [
    "center_x = df_box['Center'].apply(lambda x: x[0])\n",
    "center_y = df_box['Center'].apply(lambda x: x[1])"
   ]
  },
  {
   "cell_type": "code",
   "execution_count": 63,
   "metadata": {},
   "outputs": [
    {
     "data": {
      "image/png": "[encoded data removed]",
      "text/plain": [
       "<Figure size 504x504 with 1 Axes>"
      ]
     },
     "metadata": {
      "needs_background": "light"
     },
     "output_type": "display_data"
    }
   ],
   "source": [
    "fig, ax = plt.subplots(1,1, figsize=(7, 7))\n",
    "plt.scatter(center_x, center_y,\n",
    "    alpha=0.8,\n",
    "    marker='.'\n",
    "    )\n",
    "ax.set_title('Box center coordinate', fontsize=20)\n",
    "plt.show()"
   ]
  },
  {
   "cell_type": "code",
   "execution_count": 64,
   "metadata": {},
   "outputs": [
    {
     "data": {
      "image/png": "[encoded data removed]",
      "text/plain": [
       "<Figure size 864x504 with 1 Axes>"
      ]
     },
     "metadata": {
      "needs_background": "light"
     },
     "output_type": "display_data"
    }
   ],
   "source": [
    "fig, ax = plt.subplots(1,1, figsize=(12, 7))\n",
    "sns.boxplot(x='Label', y='Area', data=df_box, ax=ax,\n",
    "              )\n",
    "ax.set_title('Box Area via labels', fontsize=24)\n",
    "plt.show()"
   ]
  },
  {
   "cell_type": "code",
   "execution_count": 65,
   "metadata": {},
   "outputs": [],
   "source": [
    "df_tags = df_box[['Orientation', \"Alone\", \"Helmet\", \"Label\"]]"
   ]
  },
  {
   "cell_type": "code",
   "execution_count": 66,
   "metadata": {},
   "outputs": [],
   "source": [
    "df_orientation = df_tags['Orientation']\n",
    "df_orientation = df_orientation.value_counts().to_frame()\n",
    "df_alone = df_tags['Alone']\n",
    "df_alone = df_alone.value_counts().to_frame().sort_index()\n",
    "df_helmet = df_tags['Helmet']\n",
    "df_helmet = df_helmet.value_counts().to_frame().sort_index()"
   ]
  },
  {
   "cell_type": "code",
   "execution_count": 67,
   "metadata": {},
   "outputs": [
    {
     "data": {
      "image/png": "[encoded data removed]",
      "text/plain": [
       "<Figure size 576x504 with 1 Axes>"
      ]
     },
     "metadata": {
      "needs_background": "light"
     },
     "output_type": "display_data"
    }
   ],
   "source": [
    "fig, ax = plt.subplots(1,1, figsize=(8, 7))\n",
    "sns.barplot(x=df_orientation.index,y='Orientation', data=df_orientation, ax=ax,\n",
    "              )\n",
    "ax.set_title('Orientation Distribution', fontsize=24)\n",
    "plt.show()"
   ]
  },
  {
   "cell_type": "code",
   "execution_count": 68,
   "metadata": {},
   "outputs": [
    {
     "data": {
      "image/png": "[encoded data removed]",
      "text/plain": [
       "<Figure size 864x504 with 2 Axes>"
      ]
     },
     "metadata": {
      "needs_background": "light"
     },
     "output_type": "display_data"
    }
   ],
   "source": [
    "fig, ax = plt.subplots(1,2, figsize=(12, 7))\n",
    "sns.barplot(x=['False','True'],y='Helmet', data=df_helmet, ax=ax[0],\n",
    "              )\n",
    "ax[0].set_title('Helmet tag Dist.', fontsize=13)\n",
    "sns.barplot(x=['False','True'],y='Alone', data=df_alone, ax=ax[1],\n",
    "              )\n",
    "ax[1].set_title('Alone tag Dist.', fontsize=13)\n",
    "plt.show()"
   ]
  },
  {
   "cell_type": "code",
   "execution_count": 69,
   "metadata": {},
   "outputs": [],
   "source": [
    "df_tags = df_box[['Orientation', \"Alone\", \"Helmet\", \"Label\"]]"
   ]
  },
  {
   "cell_type": "code",
   "execution_count": 70,
   "metadata": {},
   "outputs": [],
   "source": [
    "df_ori = df_tags.groupby([\"Orientation\", \"Label\"]).size().to_frame()\n",
    "df_ori.reset_index(inplace=True)\n",
    "df_ori = df_ori.rename(columns={0:'Total_Numbers'})"
   ]
  },
  {
   "cell_type": "code",
   "execution_count": 71,
   "metadata": {},
   "outputs": [
    {
     "data": {
      "image/png": "[encoded data removed]",
      "text/plain": [
       "<Figure size 864x504 with 1 Axes>"
      ]
     },
     "metadata": {
      "needs_background": "light"
     },
     "output_type": "display_data"
    }
   ],
   "source": [
    "fig, ax = plt.subplots(1,1, figsize=(12, 7))\n",
    "sns.barplot(x='Orientation', y='Total_Numbers', data=df_ori, hue='Label')\n",
    "ax.set_title('Orientation Distribution via Class', fontsize=24)\n",
    "plt.show()"
   ]
  },
  {
   "cell_type": "code",
   "execution_count": 72,
   "metadata": {},
   "outputs": [
    {
     "data": {
      "image/png": "[encoded data removed]",
      "text/plain": [
       "<Figure size 864x504 with 1 Axes>"
      ]
     },
     "metadata": {
      "needs_background": "light"
     },
     "output_type": "display_data"
    }
   ],
   "source": [
    "df_hel = df_tags.groupby([\"Helmet\", \"Label\"]).size().to_frame()\n",
    "df_hel.reset_index(inplace=True)\n",
    "df_hel = df_hel.rename(columns={0:'Total_Numbers'})\n",
    "\n",
    "fig, ax = plt.subplots(1,1, figsize=(12, 7))\n",
    "sns.barplot(x='Helmet', y='Total_Numbers', data=df_hel, hue='Label')\n",
    "ax.set_title('Helmet tag Distribution via Class', fontsize=24)\n",
    "plt.show()"
   ]
  },
  {
   "cell_type": "code",
   "execution_count": 73,
   "metadata": {},
   "outputs": [
    {
     "data": {
      "image/png": "[encoded data removed]",
      "text/plain": [
       "<Figure size 864x504 with 1 Axes>"
      ]
     },
     "metadata": {
      "needs_background": "light"
     },
     "output_type": "display_data"
    }
   ],
   "source": [
    "df_al = df_tags.groupby([\"Alone\", \"Label\"]).size().to_frame()\n",
    "df_al.reset_index(inplace=True)\n",
    "df_al = df_al.rename(columns={0:'Total_Numbers'})\n",
    "\n",
    "fig, ax = plt.subplots(1,1, figsize=(12, 7))\n",
    "sns.barplot(x='Alone', y='Total_Numbers', data=df_al, hue='Label')\n",
    "ax.set_title('Alone tag Distribution via Class', fontsize=24)\n",
    "plt.show()"
   ]
  },
  {
   "cell_type": "code",
   "execution_count": 74,
   "metadata": {},
   "outputs": [
    {
     "data": {
      "text/html": [
       "<div>\n",
       "<style scoped>\n",
       "    .dataframe tbody tr th:only-of-type {\n",
       "        vertical-align: middle;\n",
       "    }\n",
       "\n",
       "    .dataframe tbody tr th {\n",
       "        vertical-align: top;\n",
       "    }\n",
       "\n",
       "    .dataframe thead th {\n",
       "        text-align: right;\n",
       "    }\n",
       "</style>\n",
       "<table border=\"1\" class=\"dataframe\">\n",
       "  <thead>\n",
       "    <tr style=\"text-align: right;\">\n",
       "      <th></th>\n",
       "      <th>Helmet</th>\n",
       "      <th>Label</th>\n",
       "      <th>Total_Numbers</th>\n",
       "    </tr>\n",
       "  </thead>\n",
       "  <tbody>\n",
       "    <tr>\n",
       "      <th>0</th>\n",
       "      <td>False</td>\n",
       "      <td>Shared No Helmet</td>\n",
       "      <td>256</td>\n",
       "    </tr>\n",
       "    <tr>\n",
       "      <th>1</th>\n",
       "      <td>False</td>\n",
       "      <td>Single No Helmet</td>\n",
       "      <td>764</td>\n",
       "    </tr>\n",
       "    <tr>\n",
       "      <th>2</th>\n",
       "      <td>True</td>\n",
       "      <td>Shared Helmet</td>\n",
       "      <td>58</td>\n",
       "    </tr>\n",
       "    <tr>\n",
       "      <th>3</th>\n",
       "      <td>True</td>\n",
       "      <td>Single Helmet</td>\n",
       "      <td>604</td>\n",
       "    </tr>\n",
       "  </tbody>\n",
       "</table>\n",
       "</div>"
      ],
      "text/plain": [
       "  Helmet             Label  Total_Numbers\n",
       "0  False  Shared No Helmet            256\n",
       "1  False  Single No Helmet            764\n",
       "2   True     Shared Helmet             58\n",
       "3   True     Single Helmet            604"
      ]
     },
     "execution_count": 74,
     "metadata": {},
     "output_type": "execute_result"
    }
   ],
   "source": [
    "df_hel"
   ]
  },
  {
   "cell_type": "code",
   "execution_count": 75,
   "metadata": {},
   "outputs": [
    {
     "data": {
      "text/html": [
       "<div>\n",
       "<style scoped>\n",
       "    .dataframe tbody tr th:only-of-type {\n",
       "        vertical-align: middle;\n",
       "    }\n",
       "\n",
       "    .dataframe tbody tr th {\n",
       "        vertical-align: top;\n",
       "    }\n",
       "\n",
       "    .dataframe thead th {\n",
       "        text-align: right;\n",
       "    }\n",
       "</style>\n",
       "<table border=\"1\" class=\"dataframe\">\n",
       "  <thead>\n",
       "    <tr style=\"text-align: right;\">\n",
       "      <th></th>\n",
       "      <th>Alone</th>\n",
       "      <th>Label</th>\n",
       "      <th>Total_Numbers</th>\n",
       "    </tr>\n",
       "  </thead>\n",
       "  <tbody>\n",
       "    <tr>\n",
       "      <th>0</th>\n",
       "      <td>False</td>\n",
       "      <td>Shared Helmet</td>\n",
       "      <td>58</td>\n",
       "    </tr>\n",
       "    <tr>\n",
       "      <th>1</th>\n",
       "      <td>False</td>\n",
       "      <td>Shared No Helmet</td>\n",
       "      <td>255</td>\n",
       "    </tr>\n",
       "    <tr>\n",
       "      <th>2</th>\n",
       "      <td>False</td>\n",
       "      <td>Single No Helmet</td>\n",
       "      <td>1</td>\n",
       "    </tr>\n",
       "    <tr>\n",
       "      <th>3</th>\n",
       "      <td>True</td>\n",
       "      <td>Shared No Helmet</td>\n",
       "      <td>1</td>\n",
       "    </tr>\n",
       "    <tr>\n",
       "      <th>4</th>\n",
       "      <td>True</td>\n",
       "      <td>Single Helmet</td>\n",
       "      <td>604</td>\n",
       "    </tr>\n",
       "    <tr>\n",
       "      <th>5</th>\n",
       "      <td>True</td>\n",
       "      <td>Single No Helmet</td>\n",
       "      <td>763</td>\n",
       "    </tr>\n",
       "  </tbody>\n",
       "</table>\n",
       "</div>"
      ],
      "text/plain": [
       "   Alone             Label  Total_Numbers\n",
       "0  False     Shared Helmet             58\n",
       "1  False  Shared No Helmet            255\n",
       "2  False  Single No Helmet              1\n",
       "3   True  Shared No Helmet              1\n",
       "4   True     Single Helmet            604\n",
       "5   True  Single No Helmet            763"
      ]
     },
     "execution_count": 75,
     "metadata": {},
     "output_type": "execute_result"
    }
   ],
   "source": [
    "df_al"
   ]
  }
 ],
 "metadata": {
  "interpreter": {
   "hash": "98b0a9b7b4eaaa670588a142fd0a9b87eaafe866f1db4228be72b4211d12040f"
  },
  "kernelspec": {
   "display_name": "Python 3.8.5 64-bit ('base': conda)",
   "name": "python3"
  },
  "language_info": {
   "codemirror_mode": {
    "name": "ipython",
    "version": 3
   },
   "file_extension": ".py",
   "mimetype": "text/x-python",
   "name": "python",
   "nbconvert_exporter": "python",
   "pygments_lexer": "ipython3",
   "version": "3.8.12"
  },
  "orig_nbformat": 4
 },
 "nbformat": 4,
 "nbformat_minor": 2
}
