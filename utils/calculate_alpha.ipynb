{
 "cells": [
  {
   "cell_type": "code",
   "execution_count": 1,
   "metadata": {},
   "outputs": [],
   "source": [
    "import pandas as pd\n",
    "import numpy as np\n",
    "import json\n",
    "from tqdm import tqdm\n",
    "import matplotlib.pyplot as plt\n",
    "from PIL import Image\n",
    "import matplotlib.patches as patches\n",
    "import numpy as np\n",
    "import seaborn as sns\n",
    "import os"
   ]
  },
  {
   "cell_type": "code",
   "execution_count": 2,
   "metadata": {},
   "outputs": [],
   "source": [
    "data_dir = '/opt/ml/yolo_data'\n",
    "sub_data_dir = ['test', 'train', 'val']"
   ]
  },
  {
   "cell_type": "code",
   "execution_count": 3,
   "metadata": {},
   "outputs": [],
   "source": [
    "labels = {0:'Single Helmet',1:'Single No Helmet',2:'Shared Helmet',3:'Shared No Helmet',}\n",
    "label_colors = {0:'black',1:'darkcyan',2:'sienna',3:'gray',}"
   ]
  },
  {
   "cell_type": "code",
   "execution_count": 4,
   "metadata": {},
   "outputs": [],
   "source": [
    "annotation=[]\n",
    "for sub_path in sub_data_dir:\n",
    "    ann_dir_path = os.path.join(data_dir, sub_path, \"temp\")\n",
    "    for (dirpath, dirnames, filenames) in os.walk(ann_dir_path):\n",
    "        for filename in filenames:\n",
    "            f = open(os.path.join(dirpath, filename))\n",
    "            data = json.load(f)\n",
    "            img_height = data['size']['height']\n",
    "            img_width = data['size']['width']\n",
    "            img_area = img_height*img_width\n",
    "            box_num = len(data['objects'])\n",
    "            bbox_coordinate = dict()\n",
    "            bbox_area = dict()\n",
    "            bbox_center = dict()\n",
    "            bbox_class = dict()\n",
    "            bbox_tags = dict()\n",
    "            bbox_width = dict()\n",
    "            bbox_height = dict()\n",
    "            for idx, obj in enumerate(data['objects']):\n",
    "                tags = {\n",
    "                    \"orientation\": None,\n",
    "                    \"helmet\": None,\n",
    "                    \"alone\": None,\n",
    "                    \"etc\": None\n",
    "                }\n",
    "                for tag in obj['tags']:\n",
    "                    tags[tag['name']] = tag['value']\n",
    "                bbox_tags[idx] = tags\n",
    "                x_min = obj['points']['exterior'][0][0] / img_width\n",
    "                y_min = obj['points']['exterior'][0][1] / img_height\n",
    "                x_max = obj['points']['exterior'][1][0] / img_width\n",
    "                y_max = obj['points']['exterior'][1][1] / img_height\n",
    "                bbox_width[idx] = x_max-x_min\n",
    "                bbox_height[idx] = y_max-y_min\n",
    "                bbox_coordinate[idx] = x_min,y_min,x_max,y_max\n",
    "                bbox_area[idx] = bbox_width[idx]*bbox_height[idx]\n",
    "                bbox_center[idx] = (x_min+x_max)/2,(y_min+y_max)/2\n",
    "                bbox_class[idx] = int(obj['classTitle'])\n",
    "            annotation.append([\n",
    "                os.path.join(dirpath, filename),\n",
    "                img_height,\n",
    "                img_width,\n",
    "                img_area,\n",
    "                box_num,\n",
    "                bbox_coordinate,\n",
    "                bbox_area,\n",
    "                bbox_center,\n",
    "                bbox_class,\n",
    "                bbox_tags,\n",
    "                bbox_height,\n",
    "                bbox_width])\n",
    "                \n",
    "            "
   ]
  },
  {
   "cell_type": "code",
   "execution_count": 5,
   "metadata": {},
   "outputs": [],
   "source": [
    "df = pd.DataFrame(annotation, columns = ['Image dir','Image Height', 'Image Width', 'Image Area', 'Box Num', 'Box Coordinate', 'Box Area', 'Box Center', 'Box Class', 'Box Tag', 'Box Height', 'Box Width'])"
   ]
  },
  {
   "cell_type": "code",
   "execution_count": 6,
   "metadata": {},
   "outputs": [],
   "source": [
    "from collections import Counter\n",
    "cat_num = Counter()\n",
    "for index, row in df.iterrows():\n",
    "    for label in row['Box Class'].values():\n",
    "        cat_num.update(str(label))\n"
   ]
  },
  {
   "cell_type": "code",
   "execution_count": 7,
   "metadata": {},
   "outputs": [],
   "source": [
    "df_cat_num = pd.DataFrame.from_dict(cat_num, orient='index', columns=['Number of box']).sort_index()"
   ]
  },
  {
   "cell_type": "code",
   "execution_count": 8,
   "metadata": {},
   "outputs": [
    {
     "data": {
      "text/html": [
       "<div>\n",
       "<style scoped>\n",
       "    .dataframe tbody tr th:only-of-type {\n",
       "        vertical-align: middle;\n",
       "    }\n",
       "\n",
       "    .dataframe tbody tr th {\n",
       "        vertical-align: top;\n",
       "    }\n",
       "\n",
       "    .dataframe thead th {\n",
       "        text-align: right;\n",
       "    }\n",
       "</style>\n",
       "<table border=\"1\" class=\"dataframe\">\n",
       "  <thead>\n",
       "    <tr style=\"text-align: right;\">\n",
       "      <th></th>\n",
       "      <th>Number of box</th>\n",
       "    </tr>\n",
       "  </thead>\n",
       "  <tbody>\n",
       "    <tr>\n",
       "      <th>0</th>\n",
       "      <td>569</td>\n",
       "    </tr>\n",
       "    <tr>\n",
       "      <th>1</th>\n",
       "      <td>727</td>\n",
       "    </tr>\n",
       "    <tr>\n",
       "      <th>2</th>\n",
       "      <td>17</td>\n",
       "    </tr>\n",
       "    <tr>\n",
       "      <th>3</th>\n",
       "      <td>128</td>\n",
       "    </tr>\n",
       "  </tbody>\n",
       "</table>\n",
       "</div>"
      ],
      "text/plain": [
       "   Number of box\n",
       "0            569\n",
       "1            727\n",
       "2             17\n",
       "3            128"
      ]
     },
     "execution_count": 8,
     "metadata": {},
     "output_type": "execute_result"
    }
   ],
   "source": [
    "df_cat_num"
   ]
  },
  {
   "cell_type": "code",
   "execution_count": 9,
   "metadata": {},
   "outputs": [],
   "source": [
    "total_number = np.sum(df_cat_num['Number of box'])"
   ]
  },
  {
   "cell_type": "code",
   "execution_count": 10,
   "metadata": {},
   "outputs": [
    {
     "data": {
      "text/plain": [
       "1441"
      ]
     },
     "execution_count": 10,
     "metadata": {},
     "output_type": "execute_result"
    }
   ],
   "source": [
    "total_number"
   ]
  },
  {
   "cell_type": "code",
   "execution_count": 11,
   "metadata": {},
   "outputs": [
    {
     "data": {
      "text/html": [
       "<div>\n",
       "<style scoped>\n",
       "    .dataframe tbody tr th:only-of-type {\n",
       "        vertical-align: middle;\n",
       "    }\n",
       "\n",
       "    .dataframe tbody tr th {\n",
       "        vertical-align: top;\n",
       "    }\n",
       "\n",
       "    .dataframe thead th {\n",
       "        text-align: right;\n",
       "    }\n",
       "</style>\n",
       "<table border=\"1\" class=\"dataframe\">\n",
       "  <thead>\n",
       "    <tr style=\"text-align: right;\">\n",
       "      <th></th>\n",
       "      <th>Number of box</th>\n",
       "    </tr>\n",
       "  </thead>\n",
       "  <tbody>\n",
       "    <tr>\n",
       "      <th>0</th>\n",
       "      <td>2.532513</td>\n",
       "    </tr>\n",
       "    <tr>\n",
       "      <th>1</th>\n",
       "      <td>1.982118</td>\n",
       "    </tr>\n",
       "    <tr>\n",
       "      <th>2</th>\n",
       "      <td>84.764706</td>\n",
       "    </tr>\n",
       "    <tr>\n",
       "      <th>3</th>\n",
       "      <td>11.257812</td>\n",
       "    </tr>\n",
       "  </tbody>\n",
       "</table>\n",
       "</div>"
      ],
      "text/plain": [
       "   Number of box\n",
       "0       2.532513\n",
       "1       1.982118\n",
       "2      84.764706\n",
       "3      11.257812"
      ]
     },
     "execution_count": 11,
     "metadata": {},
     "output_type": "execute_result"
    }
   ],
   "source": [
    "df_cat_num['Number of box'] = df_cat_num['Number of box'].apply(lambda x: total_number/x)\n",
    "df_cat_num"
   ]
  },
  {
   "cell_type": "code",
   "execution_count": 12,
   "metadata": {},
   "outputs": [
    {
     "name": "stdout",
     "output_type": "stream",
     "text": [
      "2.532513181019332 0\n",
      "1.9821182943603852 1\n",
      "84.76470588235294 2\n",
      "11.2578125 3\n",
      "[ 0.93475395  0.76963549 25.60441176  3.55234375]\n"
     ]
    }
   ],
   "source": [
    "zeros = np.zeros(4)\n",
    "for idx, num in enumerate(df_cat_num['Number of box']):\n",
    "    print(num, idx)\n",
    "    zeros[idx] = 0.3*num + 0.7/4\n",
    "print(zeros)\n",
    "df_cat_num['Smooth weight'] = zeros"
   ]
  },
  {
   "cell_type": "code",
   "execution_count": 13,
   "metadata": {},
   "outputs": [
    {
     "data": {
      "text/plain": [
       "30.861144957319798"
      ]
     },
     "execution_count": 13,
     "metadata": {},
     "output_type": "execute_result"
    }
   ],
   "source": [
    "norm = df_cat_num['Smooth weight'].sum()\n",
    "norm"
   ]
  },
  {
   "cell_type": "code",
   "execution_count": 14,
   "metadata": {},
   "outputs": [],
   "source": [
    "df_cat_num['Smooth weight norm'] = df_cat_num['Smooth weight'].apply(lambda x: x/norm)"
   ]
  },
  {
   "cell_type": "code",
   "execution_count": 15,
   "metadata": {},
   "outputs": [
    {
     "data": {
      "text/html": [
       "<div>\n",
       "<style scoped>\n",
       "    .dataframe tbody tr th:only-of-type {\n",
       "        vertical-align: middle;\n",
       "    }\n",
       "\n",
       "    .dataframe tbody tr th {\n",
       "        vertical-align: top;\n",
       "    }\n",
       "\n",
       "    .dataframe thead th {\n",
       "        text-align: right;\n",
       "    }\n",
       "</style>\n",
       "<table border=\"1\" class=\"dataframe\">\n",
       "  <thead>\n",
       "    <tr style=\"text-align: right;\">\n",
       "      <th></th>\n",
       "      <th>Number of box</th>\n",
       "      <th>Smooth weight</th>\n",
       "      <th>Smooth weight norm</th>\n",
       "    </tr>\n",
       "  </thead>\n",
       "  <tbody>\n",
       "    <tr>\n",
       "      <th>0</th>\n",
       "      <td>2.532513</td>\n",
       "      <td>0.934754</td>\n",
       "      <td>0.030289</td>\n",
       "    </tr>\n",
       "    <tr>\n",
       "      <th>1</th>\n",
       "      <td>1.982118</td>\n",
       "      <td>0.769635</td>\n",
       "      <td>0.024939</td>\n",
       "    </tr>\n",
       "    <tr>\n",
       "      <th>2</th>\n",
       "      <td>84.764706</td>\n",
       "      <td>25.604412</td>\n",
       "      <td>0.829665</td>\n",
       "    </tr>\n",
       "    <tr>\n",
       "      <th>3</th>\n",
       "      <td>11.257812</td>\n",
       "      <td>3.552344</td>\n",
       "      <td>0.115107</td>\n",
       "    </tr>\n",
       "  </tbody>\n",
       "</table>\n",
       "</div>"
      ],
      "text/plain": [
       "   Number of box  Smooth weight  Smooth weight norm\n",
       "0       2.532513       0.934754            0.030289\n",
       "1       1.982118       0.769635            0.024939\n",
       "2      84.764706      25.604412            0.829665\n",
       "3      11.257812       3.552344            0.115107"
      ]
     },
     "execution_count": 15,
     "metadata": {},
     "output_type": "execute_result"
    }
   ],
   "source": [
    "df_cat_num"
   ]
  }
 ],
 "metadata": {
  "interpreter": {
   "hash": "978d5707b7c196c3831747d301f7e8256aef35df9e61b45ddd657e9ae39cf07e"
  },
  "kernelspec": {
   "display_name": "Python 3.7.11 64-bit ('project': conda)",
   "language": "python",
   "name": "python3"
  },
  "language_info": {
   "codemirror_mode": {
    "name": "ipython",
    "version": 3
   },
   "file_extension": ".py",
   "mimetype": "text/x-python",
   "name": "python",
   "nbconvert_exporter": "python",
   "pygments_lexer": "ipython3",
   "version": "3.7.11"
  },
  "orig_nbformat": 4
 },
 "nbformat": 4,
 "nbformat_minor": 2
}
