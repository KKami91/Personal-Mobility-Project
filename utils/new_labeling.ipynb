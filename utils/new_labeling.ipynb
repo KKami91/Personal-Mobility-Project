{
    "cells": [
        {
            "cell_type": "code",
            "execution_count": 1,
            "source": [
                "import os\n",
                "from pathlib import Path"
            ],
            "outputs": [],
            "metadata": {}
        },
        {
            "cell_type": "code",
            "execution_count": 2,
            "source": [
                "#directory where [test,train,val] are\n",
                "path = '/opt/ml/final_project/data'"
            ],
            "outputs": [],
            "metadata": {}
        },
        {
            "cell_type": "markdown",
            "source": [
                "기존의 labels과 동일한 위치에 labels_alone, labels_helmet이라는 폴더를 만들어 새로운 label을 저장합니다."
            ],
            "metadata": {}
        },
        {
            "cell_type": "code",
            "execution_count": 4,
            "source": [
                "for folder_name in os.listdir(path):\n",
                "    if not folder_name in ['test','train','val']:\n",
                "        continue\n",
                "    \n",
                "    folder_path = os.path.join(path,folder_name)\n",
                "    label_path = os.path.join(folder_path,'labels')\n",
                "    helmet_path = os.path.join(folder_path,'labels_helmet')\n",
                "    alone_path = os.path.join(folder_path,'labels_alone')\n",
                "    \n",
                "    if not os.path.exists(helmet_path):\n",
                "        os.mkdir(helmet_path)\n",
                "    if not os.path.exists(alone_path):\n",
                "        os.mkdir(alone_path)\n",
                "\n",
                "    for label in os.listdir(label_path):\n",
                "        with open(os.path.join(label_path,label),'r') as f:\n",
                "            helmet = ''\n",
                "            alone = ''\n",
                "            \n",
                "            while True:\n",
                "                line = f.readline()\n",
                "                if not line:\n",
                "                    break\n",
                "                original = line[0]\n",
                "\n",
                "                #H\n",
                "                if original == '0' or original == '2':\n",
                "                    helmet += '0' + line[1:]\n",
                "                #~H\n",
                "                else:\n",
                "                    helmet += '1' + line[1:]\n",
                "                #A\n",
                "                if original == '0' or original == '1':\n",
                "                    alone += '0' + line[1:] \n",
                "                #~A\n",
                "                else:\n",
                "                    alone += '1' + line[1:] \n",
                "\n",
                "            with open(os.path.join(helmet_path,label),'w') as temp:\n",
                "                temp.write(helmet)\n",
                "            with open(os.path.join(alone_path,label),'w') as temp:\n",
                "                temp.write(alone)\n"
            ],
            "outputs": [],
            "metadata": {}
        },
        {
            "cell_type": "code",
            "execution_count": 18,
            "source": [
                "#check\n",
                "\n",
                "def make_label(helmet,alone):\n",
                "    return str(int(alone)*2+int(helmet))\n",
                "\n",
                "for folder_name in os.listdir(path):\n",
                "    if not folder_name in ['test','train','val']:\n",
                "        continue\n",
                "    \n",
                "    folder_path = os.path.join(path,folder_name)\n",
                "    label_path = os.path.join(folder_path,'labels')\n",
                "    helmet_path = os.path.join(folder_path,'labels_helmet')\n",
                "    alone_path = os.path.join(folder_path,'labels_alone')\n",
                "\n",
                "    for label in os.listdir(label_path):\n",
                "        both = open(os.path.join(label_path,label),'r')\n",
                "        helmet = open(os.path.join(helmet_path,label),'r')\n",
                "        alone = open(os.path.join(alone_path,label),'r')\n",
                "\n",
                "        while True:\n",
                "            bline = both.readline()\n",
                "            hline = helmet.readline()\n",
                "            aline = alone.readline()\n",
                "            \n",
                "            assert (bline and hline and aline) or (not (bline or hline or aline)), 'count different'\n",
                "\n",
                "            if bline and hline and aline:\n",
                "                assert make_label(hline[0],aline[0]) == bline[0], 'label different'\n",
                "                assert hline[1:] == aline[1:] == bline[1:], 'box different'\n",
                "            elif not (bline or hline or aline):\n",
                "                break\n",
                "\n",
                "\n",
                "print('clear!')\n",
                "                    "
            ],
            "outputs": [
                {
                    "output_type": "stream",
                    "name": "stdout",
                    "text": [
                        "clear!\n"
                    ]
                }
            ],
            "metadata": {}
        },
        {
            "cell_type": "code",
            "execution_count": null,
            "source": [],
            "outputs": [],
            "metadata": {}
        }
    ],
    "metadata": {
        "orig_nbformat": 4,
        "kernelspec": {
            "name": "lightweight",
            "display_name": "lightweight",
            "language": "python"
        }
    },
    "nbformat": 4,
    "nbformat_minor": 2
}