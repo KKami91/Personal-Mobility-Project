{
 "cells": [
  {
   "cell_type": "markdown",
   "metadata": {},
   "source": [
    "class, orientation의 비율에 맞춰 train, val, test로 전체 dataset을 slpit"
   ]
  },
  {
   "cell_type": "code",
   "execution_count": 27,
   "metadata": {},
   "outputs": [],
   "source": [
    "import pandas as pd\n",
    "import numpy as np\n",
    "import json\n",
    "from tqdm import tqdm\n",
    "import matplotlib.pyplot as plt\n",
    "from PIL import Image\n",
    "import matplotlib.patches as patches\n",
    "import numpy as np\n",
    "import seaborn as sns\n",
    "import os\n",
    "import shutil\n",
    "import re\n",
    "from sklearn.model_selection import train_test_split"
   ]
  },
  {
   "cell_type": "code",
   "execution_count": 28,
   "metadata": {},
   "outputs": [],
   "source": [
    "# todo\n",
    "img_dir = '/opt/ml/final_project/data/img/'\n",
    "ann_dir = '/opt/ml/final_project/data/ann/'"
   ]
  },
  {
   "cell_type": "code",
   "execution_count": 29,
   "metadata": {},
   "outputs": [],
   "source": [
    "fileids = []\n",
    "class_num = []\n",
    "orient = []\n",
    "img_fileids = []\n",
    "\n",
    "for idx, img_fileid in enumerate(os.listdir(img_dir)):\n",
    "    \n",
    "    fileid = re.match('\\w+_\\d+', img_fileid).group(0)\n",
    "    ann_fileid = fileid+'.json'\n",
    "\n",
    "    img_fileids.append(img_fileid)\n",
    "    fileids.append(fileid)\n",
    "    with open(ann_dir+ann_fileid, \"r\", encoding=\"utf8\") as f:\n",
    "        contents = f.read() # string 타입\n",
    "        json_data = json.loads(contents)\n",
    "        class_num.append(json_data['objects'][0]['classTitle'])\n",
    "        \n",
    "        tags = json_data['objects'][0]['tags']\n",
    "        for idx, tag in enumerate(tags):\n",
    "            if tag['name'] == 'orientation':\n",
    "                orient.append(tag['value'])"
   ]
  },
  {
   "cell_type": "code",
   "execution_count": null,
   "metadata": {
    "scrolled": false
   },
   "outputs": [],
   "source": [
    "df = pd.DataFrame()\n",
    "df['fileid'] = fileids\n",
    "df['img'] = img_fileids\n",
    "df['class_num'] = class_num\n",
    "df['orient'] = orient\n",
    "df"
   ]
  },
  {
   "cell_type": "code",
   "execution_count": null,
   "metadata": {},
   "outputs": [],
   "source": [
    "df.groupby(['class_num', 'orient']).count()"
   ]
  },
  {
   "cell_type": "code",
   "execution_count": 7,
   "metadata": {},
   "outputs": [],
   "source": [
    "df_0 = df.loc[df['class_num']=='0']\n",
    "df_1 = df.loc[df['class_num']=='1']\n",
    "df_2 = df.loc[df['class_num']=='2']\n",
    "df_3 = df.loc[df['class_num']=='3']"
   ]
  },
  {
   "cell_type": "markdown",
   "metadata": {},
   "source": [
    "train,val,test dataset 비율에 따라 test_size 변경"
   ]
  },
  {
   "cell_type": "code",
   "execution_count": 10,
   "metadata": {},
   "outputs": [],
   "source": [
    "data_0 = df_0[['img', 'fileid']]\n",
    "target_0 = df_0['orient']\n",
    "data_0, data_0_val, target_0, target_0_val = train_test_split(data_0, target_0, test_size=0.18, shuffle=True, stratify=target_0, random_state=1)\n",
    "data_0_train, data_0_test, target_0_train, target_0_test = train_test_split(data_0, target_0, test_size=0.11, shuffle=True, stratify=target_0, random_state=1)\n",
    "\n",
    "data_1 = df_1[['img', 'fileid']]\n",
    "target_1 = df_1['orient']\n",
    "data_1, data_1_val, target_1, target_1_val = train_test_split(data_1, target_1, test_size=0.14, shuffle=True, stratify=target_1, random_state=1)\n",
    "data_1_train, data_1_test, target_1_train, target_1_test = train_test_split(data_1, target_1, test_size=0.08, shuffle=True, stratify=target_1, random_state=1)\n",
    "\n",
    "data_2 = df_2[['img', 'fileid']]\n",
    "target_2 = df_2['orient']\n",
    "data_2, data_2_val, target_2, target_2_val = train_test_split(data_2, target_2, test_size=0.35, shuffle=True, stratify=target_2, random_state=1)\n",
    "data_2_train, data_2_test, target_2_train, target_2_test = train_test_split(data_2, target_2, test_size=0.28, shuffle=True, stratify=target_2, random_state=1)\n",
    "\n",
    "data_3 = df_3[['img', 'fileid']]\n",
    "target_3 = df_3['orient']\n",
    "data_3, data_3_val, target_3, target_3_val = train_test_split(data_3, target_3, test_size=0.25, shuffle=True, stratify=target_3, random_state=1)\n",
    "data_3_train, data_3_test, target_3_train, target_3_test = train_test_split(data_3, target_3, test_size=0.17, shuffle=True, stratify=target_3, random_state=1)"
   ]
  },
  {
   "cell_type": "code",
   "execution_count": 12,
   "metadata": {},
   "outputs": [],
   "source": [
    "data_train = pd.concat([data_0_train, data_1_train, data_2_train, data_3_train])\n",
    "data_val = pd.concat([data_0_val, data_1_val, data_2_val, data_3_val])\n",
    "data_test = pd.concat([data_0_test, data_1_test, data_2_test, data_3_test])"
   ]
  },
  {
   "cell_type": "code",
   "execution_count": 14,
   "metadata": {},
   "outputs": [],
   "source": [
    "for idx in data_train.index:\n",
    "    img_path = data_train['img'][idx]\n",
    "    ann_path = data_train['fileid'][idx]+'.json'\n",
    "    \n",
    "    img_origin = img_dir+img_path\n",
    "    ann_origin = ann_dir+ann_path\n",
    "    img_copy = '/opt/ml/final_project/data/train/img/'+img_path\n",
    "    ann_copy = '/opt/ml/final_project/data/train/ann/'+ann_path\n",
    "    shutil.copy(img_origin, img_copy)\n",
    "    shutil.copy(ann_origin, ann_copy)"
   ]
  },
  {
   "cell_type": "code",
   "execution_count": 18,
   "metadata": {},
   "outputs": [],
   "source": [
    "for idx in data_val.index:\n",
    "    img_path = data_val['img'][idx]\n",
    "    ann_path = data_val['fileid'][idx]+'.json'\n",
    "    \n",
    "    img_origin = img_dir+img_path\n",
    "    ann_origin = ann_dir+ann_path\n",
    "    img_copy = '/opt/ml/final_project/data/val/img/'+img_path\n",
    "    ann_copy = '/opt/ml/final_project/data/val/ann/'+ann_path\n",
    "    shutil.copy(img_origin, img_copy)\n",
    "    shutil.copy(ann_origin, ann_copy)"
   ]
  },
  {
   "cell_type": "code",
   "execution_count": 20,
   "metadata": {},
   "outputs": [],
   "source": [
    "for idx in data_test.index:\n",
    "    img_path = data_test['img'][idx]\n",
    "    ann_path = data_test['fileid'][idx]+'.json'\n",
    "    \n",
    "    img_origin = img_dir+img_path\n",
    "    ann_origin = ann_dir+ann_path\n",
    "    img_copy = '/opt/ml/final_project/data/test/img/'+img_path\n",
    "    ann_copy = '/opt/ml/final_project/data/test/ann/'+ann_path\n",
    "    shutil.copy(img_origin, img_copy)\n",
    "    shutil.copy(ann_origin, ann_copy)"
   ]
  },
  {
   "cell_type": "code",
   "execution_count": 35,
   "metadata": {
    "scrolled": true
   },
   "outputs": [
    {
     "data": {
      "text/plain": [
       "0       False\n",
       "1        True\n",
       "2       False\n",
       "3       False\n",
       "4       False\n",
       "        ...  \n",
       "1122    False\n",
       "1123    False\n",
       "1124    False\n",
       "1125    False\n",
       "1126    False\n",
       "Name: orient, Length: 1127, dtype: bool"
      ]
     },
     "execution_count": 35,
     "metadata": {},
     "output_type": "execute_result"
    }
   ],
   "source": [
    "df['orient']=='Rear'"
   ]
  },
  {
   "cell_type": "code",
   "execution_count": 38,
   "metadata": {
    "scrolled": true
   },
   "outputs": [
    {
     "data": {
      "text/html": [
       "<div>\n",
       "<style scoped>\n",
       "    .dataframe tbody tr th:only-of-type {\n",
       "        vertical-align: middle;\n",
       "    }\n",
       "\n",
       "    .dataframe tbody tr th {\n",
       "        vertical-align: top;\n",
       "    }\n",
       "\n",
       "    .dataframe thead th {\n",
       "        text-align: right;\n",
       "    }\n",
       "</style>\n",
       "<table border=\"1\" class=\"dataframe\">\n",
       "  <thead>\n",
       "    <tr style=\"text-align: right;\">\n",
       "      <th></th>\n",
       "      <th>fileid</th>\n",
       "      <th>class_num</th>\n",
       "      <th>orient</th>\n",
       "    </tr>\n",
       "  </thead>\n",
       "  <tbody>\n",
       "    <tr>\n",
       "      <th>129</th>\n",
       "      <td>self_0129</td>\n",
       "      <td>2</td>\n",
       "      <td>Rear</td>\n",
       "    </tr>\n",
       "    <tr>\n",
       "      <th>134</th>\n",
       "      <td>self_0134</td>\n",
       "      <td>2</td>\n",
       "      <td>Rear</td>\n",
       "    </tr>\n",
       "  </tbody>\n",
       "</table>\n",
       "</div>"
      ],
      "text/plain": [
       "        fileid class_num orient\n",
       "129  self_0129         2   Rear\n",
       "134  self_0134         2   Rear"
      ]
     },
     "execution_count": 38,
     "metadata": {},
     "output_type": "execute_result"
    }
   ],
   "source": [
    "df.loc[(df['orient']=='Rear') & (df['class_num']=='2')]"
   ]
  },
  {
   "cell_type": "code",
   "execution_count": 31,
   "metadata": {
    "scrolled": false
   },
   "outputs": [
    {
     "data": {
      "text/html": [
       "<div>\n",
       "<style scoped>\n",
       "    .dataframe tbody tr th:only-of-type {\n",
       "        vertical-align: middle;\n",
       "    }\n",
       "\n",
       "    .dataframe tbody tr th {\n",
       "        vertical-align: top;\n",
       "    }\n",
       "\n",
       "    .dataframe thead th {\n",
       "        text-align: right;\n",
       "    }\n",
       "</style>\n",
       "<table border=\"1\" class=\"dataframe\">\n",
       "  <thead>\n",
       "    <tr style=\"text-align: right;\">\n",
       "      <th></th>\n",
       "      <th>fileid</th>\n",
       "      <th>orient</th>\n",
       "    </tr>\n",
       "    <tr>\n",
       "      <th>class_num</th>\n",
       "      <th></th>\n",
       "      <th></th>\n",
       "    </tr>\n",
       "  </thead>\n",
       "  <tbody>\n",
       "    <tr>\n",
       "      <th>0</th>\n",
       "      <td>420</td>\n",
       "      <td>420</td>\n",
       "    </tr>\n",
       "    <tr>\n",
       "      <th>1</th>\n",
       "      <td>570</td>\n",
       "      <td>570</td>\n",
       "    </tr>\n",
       "    <tr>\n",
       "      <th>2</th>\n",
       "      <td>17</td>\n",
       "      <td>17</td>\n",
       "    </tr>\n",
       "    <tr>\n",
       "      <th>3</th>\n",
       "      <td>120</td>\n",
       "      <td>120</td>\n",
       "    </tr>\n",
       "  </tbody>\n",
       "</table>\n",
       "</div>"
      ],
      "text/plain": [
       "           fileid  orient\n",
       "class_num                \n",
       "0             420     420\n",
       "1             570     570\n",
       "2              17      17\n",
       "3             120     120"
      ]
     },
     "execution_count": 31,
     "metadata": {},
     "output_type": "execute_result"
    }
   ],
   "source": [
    "df.groupby(['class_num']).count()"
   ]
  },
  {
   "cell_type": "code",
   "execution_count": 32,
   "metadata": {},
   "outputs": [],
   "source": [
    "data = df['Title']\n",
    "target = df['class_num']\n",
    "x, x_test, y, y_test = train_test_split(data, target, test_size=0.2, shuffle=True, stratify=target, random_state=1)"
   ]
  },
  {
   "cell_type": "code",
   "execution_count": 34,
   "metadata": {},
   "outputs": [
    {
     "name": "stdout",
     "output_type": "stream",
     "text": [
      "(1127,)\n",
      "(1127,)\n",
      "(901,)\n",
      "(901,)\n"
     ]
    }
   ],
   "source": [
    "print(data.shape)\n",
    "print(target.shape)\n",
    "print(x.shape)\n",
    "print(y.shape)"
   ]
  },
  {
   "cell_type": "code",
   "execution_count": 35,
   "metadata": {},
   "outputs": [],
   "source": [
    "x_train, x_val, y_val, y_val = train_test_split(x, y, test_size=0.25, shuffle=True, stratify=y, random_state=1)"
   ]
  },
  {
   "cell_type": "code",
   "execution_count": 36,
   "metadata": {},
   "outputs": [
    {
     "data": {
      "text/plain": [
       "27      self_0027\n",
       "1060    yt_2_0087\n",
       "83      self_0083\n",
       "227     self_0228\n",
       "335     self_0336\n",
       "          ...    \n",
       "910     yt_1_0160\n",
       "632     self_0633\n",
       "788     yt_1_0038\n",
       "460     self_0461\n",
       "1095    yt_2_0124\n",
       "Name: Title, Length: 675, dtype: object"
      ]
     },
     "execution_count": 36,
     "metadata": {},
     "output_type": "execute_result"
    }
   ],
   "source": [
    "x_train"
   ]
  },
  {
   "cell_type": "code",
   "execution_count": 37,
   "metadata": {
    "scrolled": true
   },
   "outputs": [
    {
     "data": {
      "text/plain": [
       "1059    yt_2_0086\n",
       "457     self_0458\n",
       "52      self_0052\n",
       "956     yt_1_0206\n",
       "339     self_0340\n",
       "          ...    \n",
       "823     yt_1_0073\n",
       "434     self_0435\n",
       "356     self_0357\n",
       "876     yt_1_0126\n",
       "1114    yt_2_0144\n",
       "Name: Title, Length: 226, dtype: object"
      ]
     },
     "execution_count": 37,
     "metadata": {},
     "output_type": "execute_result"
    }
   ],
   "source": [
    "x_val"
   ]
  },
  {
   "cell_type": "code",
   "execution_count": 38,
   "metadata": {},
   "outputs": [
    {
     "data": {
      "text/plain": [
       "279    self_0280\n",
       "365    self_0366\n",
       "563    self_0564\n",
       "552    self_0553\n",
       "444    self_0445\n",
       "         ...    \n",
       "7      self_0007\n",
       "677    web_0034.\n",
       "947    yt_1_0197\n",
       "181    self_0181\n",
       "923    yt_1_0173\n",
       "Name: Title, Length: 226, dtype: object"
      ]
     },
     "execution_count": 38,
     "metadata": {},
     "output_type": "execute_result"
    }
   ],
   "source": [
    "x_test"
   ]
  },
  {
   "cell_type": "code",
   "execution_count": null,
   "metadata": {},
   "outputs": [],
   "source": []
  }
 ],
 "metadata": {
  "kernelspec": {
   "display_name": "lightweight",
   "language": "python",
   "name": "lightweight"
  }
 },
 "nbformat": 4,
 "nbformat_minor": 4
}
