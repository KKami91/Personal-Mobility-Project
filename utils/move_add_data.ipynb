{
 "cells": [
  {
   "cell_type": "code",
   "execution_count": 1,
   "metadata": {},
   "outputs": [],
   "source": [
    "import os\n",
    "import json\n",
    "import shutil\n",
    "from pathlib import Path"
   ]
  },
  {
   "cell_type": "code",
   "execution_count": 2,
   "metadata": {},
   "outputs": [],
   "source": [
    "#todo\n",
    "train_dir = '/opt/ml/final_project/data/train'\n",
    "val_dir = '/opt/ml/final_project/data/val'\n",
    "test_dir = '/opt/ml/final_project/data/test'\n",
    "\n",
    "folder = ['json','labels','labels_alone','labels_helmet']\n",
    "ext = ['.json','.txt','.txt','.txt']"
   ]
  },
  {
   "cell_type": "code",
   "execution_count": 3,
   "metadata": {},
   "outputs": [],
   "source": [
    "to_val = ['self_0259_t.jpeg','self_0390_t.jpg','self_0001_t.JPG','web_0001_t.png','yt_1_0171_t.jpg']\n",
    "to_test = ['yt_1_0000_t.jpg','self_0213_t.jpeg','self_0465_t.jpg']"
   ]
  },
  {
   "cell_type": "code",
   "execution_count": null,
   "metadata": {},
   "outputs": [],
   "source": [
    "for v in to_val:\n",
    "    \n",
    "    src_dir = train_dir + '/images/' +  v\n",
    "    move_dir = val_dir + '/images/' + v\n",
    "    shutil.move(src_dir,move_dir)\n",
    "\n",
    "    for idx, f in enumerate(folder):\n",
    "        new_src = src_dir.replace('images',f).split('.')[0] + ext[idx]\n",
    "        new_move = move_dir.replace('images',f).split('.')[0] + ext[idx]\n",
    "        shutil.move(new_src,new_move)\n"
   ]
  },
  {
   "cell_type": "code",
   "execution_count": 60,
   "metadata": {},
   "outputs": [],
   "source": [
    "for t in to_test:\n",
    "    \n",
    "    src_dir = train_dir + '/images/' +  t\n",
    "    move_dir = test_dir + '/images/' + t\n",
    "    shutil.move(src_dir,move_dir)\n",
    "\n",
    "    for idx, f in enumerate(folder):\n",
    "        new_src = src_dir.replace('images',f).split('.')[0] + ext[idx]\n",
    "        new_move = move_dir.replace('images',f).split('.')[0] + ext[idx]\n",
    "        shutil.move(new_src,new_move)"
   ]
  },
  {
   "cell_type": "markdown",
   "metadata": {},
   "source": [
    "# val, test 데이터로 합성한 이미지 찾기"
   ]
  },
  {
   "cell_type": "code",
   "execution_count": 28,
   "metadata": {},
   "outputs": [],
   "source": [
    "add_path = '/opt/ml/final_project/add_data'\n",
    "add_img_path = add_path + '/images'\n",
    "\n",
    "train_path = '/opt/ml/final_project/data/train'\n",
    "train_img_path = train_path + '/images'\n",
    "val_path = '/opt/ml/final_project/data/val'\n",
    "val_img_path = val_path + '/images'\n",
    "test_path = '/opt/ml/final_project/data/test'\n",
    "test_img_path = test_path + '/images'"
   ]
  },
  {
   "cell_type": "code",
   "execution_count": 29,
   "metadata": {},
   "outputs": [],
   "source": [
    "file_id = []\n",
    "for image_id in os.listdir(add_img_path):\n",
    "    file_id.append('_'.join(image_id.split('.')[0].split('_')[:-1]))\n",
    "\n",
    "train_file_id = []\n",
    "for image_id in os.listdir(train_img_path):\n",
    "    train_file_id.append(image_id.split('.')[0])\n",
    "\n",
    "val_file_id = []\n",
    "for image_id in os.listdir(val_img_path):\n",
    "    val_file_id.append(image_id.split('.')[0])\n",
    "\n",
    "test_file_id = []\n",
    "for image_id in os.listdir(test_img_path):\n",
    "    test_file_id.append(image_id.split('.')[0])"
   ]
  },
  {
   "cell_type": "code",
   "execution_count": 30,
   "metadata": {},
   "outputs": [
    {
     "name": "stdout",
     "output_type": "stream",
     "text": [
      "new\n",
      "new\n",
      "new\n",
      "new\n"
     ]
    }
   ],
   "source": [
    "new = ['two_helmet','two_non_helmet']\n",
    "train = []\n",
    "val = []\n",
    "test = []\n",
    "\n",
    "for f in file_id:\n",
    "    if f in train_file_id:\n",
    "        train.append(f)\n",
    "    elif f in val_file_id:\n",
    "        val.append(f)\n",
    "    elif f in test_file_id:\n",
    "        test.append(f)\n",
    "    elif f in new:\n",
    "        print('new')\n",
    "    else:\n",
    "        print('error')\n",
    "        break"
   ]
  },
  {
   "cell_type": "code",
   "execution_count": 31,
   "metadata": {},
   "outputs": [
    {
     "name": "stdout",
     "output_type": "stream",
     "text": [
      "['self_0259', 'yt_1_0000', 'self_0465', 'self_0390', 'self_0213']\n",
      "['yt_1_0171', 'self_0001', 'web_0001']\n"
     ]
    }
   ],
   "source": [
    "print(val)\n",
    "print(test)"
   ]
  },
  {
   "cell_type": "markdown",
   "metadata": {},
   "source": [
    "# class, orientation를 고려해 어디로 옮길지 정하기\n"
   ]
  },
  {
   "cell_type": "code",
   "execution_count": 32,
   "metadata": {},
   "outputs": [],
   "source": [
    "val = ['self_0259', 'yt_1_0000', 'self_0465', 'self_0390', 'self_0213']\n",
    "test = ['yt_1_0171', 'self_0001', 'web_0001']"
   ]
  },
  {
   "cell_type": "code",
   "execution_count": 33,
   "metadata": {},
   "outputs": [],
   "source": [
    "train_dir = '/opt/ml/final_project/data/train'\n",
    "val_dir = '/opt/ml/final_project/data/val'\n",
    "test_dir = '/opt/ml/final_project/data/test'\n"
   ]
  },
  {
   "cell_type": "code",
   "execution_count": 34,
   "metadata": {},
   "outputs": [
    {
     "name": "stdout",
     "output_type": "stream",
     "text": [
      "['1', '1', '0', '1', '1']\n",
      "['Front', 'Side', 'Side', 'Rear', 'Rear']\n"
     ]
    }
   ],
   "source": [
    "val_ann_dir = val_dir + '/json'\n",
    "val_class = []\n",
    "val_orien = []\n",
    "for v in val:\n",
    "    file_dir = val_ann_dir+'/'+ v +'.json'\n",
    "    with open(file_dir,\"r\",encoding='utf8') as f:\n",
    "        data = json.loads(f.read())\n",
    "        val_class.append(data['objects'][0]['classTitle'])\n",
    "\n",
    "        tags = data['objects'][0]['tags']\n",
    "        for idx, tag in enumerate(tags):\n",
    "            if tag['name'] == 'orientation':\n",
    "                val_orien.append(tag['value'])\n",
    "        \n",
    "print(val_class)\n",
    "print(val_orien)"
   ]
  },
  {
   "cell_type": "code",
   "execution_count": 35,
   "metadata": {},
   "outputs": [
    {
     "name": "stdout",
     "output_type": "stream",
     "text": [
      "['0', '1', '1']\n",
      "['Side', 'Rear', 'Side']\n"
     ]
    }
   ],
   "source": [
    "test_ann_dir = test_dir + '/json'\n",
    "test_class = []\n",
    "test_orien = []\n",
    "for t in test:\n",
    "    file_dir = test_ann_dir+'/'+ t +'.json'\n",
    "    with open(file_dir,\"r\",encoding='utf8') as f:\n",
    "        data = json.loads(f.read())\n",
    "        test_class.append(data['objects'][0]['classTitle'])\n",
    "\n",
    "        tags = data['objects'][0]['tags']\n",
    "        for idx, tag in enumerate(tags):\n",
    "            if tag['name'] == 'orientation':\n",
    "                test_orien.append(tag['value'])\n",
    "        \n",
    "print(test_class)\n",
    "print(test_orien)"
   ]
  },
  {
   "cell_type": "code",
   "execution_count": null,
   "metadata": {},
   "outputs": [],
   "source": []
  }
 ],
 "metadata": {
  "kernelspec": {
   "display_name": "lightweight",
   "language": "python",
   "name": "lightweight"
  },
  "language_info": {
   "codemirror_mode": {
    "name": "ipython",
    "version": 3
   },
   "file_extension": ".py",
   "mimetype": "text/x-python",
   "name": "python",
   "nbconvert_exporter": "python",
   "pygments_lexer": "ipython3",
   "version": "3.7.11"
  },
  "orig_nbformat": 4
 },
 "nbformat": 4,
 "nbformat_minor": 2
}
